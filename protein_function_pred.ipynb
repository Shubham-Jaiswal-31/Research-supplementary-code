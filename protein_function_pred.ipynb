{
 "cells": [
  {
   "cell_type": "markdown",
   "metadata": {
    "id": "TU29QBtednFC",
    "papermill": {
     "duration": 0.009086,
     "end_time": "2023-05-09T08:30:09.140473",
     "exception": false,
     "start_time": "2023-05-09T08:30:09.131387",
     "status": "completed"
    },
    "tags": []
   },
   "source": [
    "# Import the Required Libraries"
   ]
  },
  {
   "cell_type": "code",
   "execution_count": 1,
   "metadata": {
    "execution": {
     "iopub.execute_input": "2024-05-07T06:17:35.225073Z",
     "iopub.status.busy": "2024-05-07T06:17:35.224613Z",
     "iopub.status.idle": "2024-05-07T06:17:43.953157Z",
     "shell.execute_reply": "2024-05-07T06:17:43.952156Z",
     "shell.execute_reply.started": "2024-05-07T06:17:35.225038Z"
    },
    "id": "a0MQrGJXdnFC",
    "papermill": {
     "duration": 9.85331,
     "end_time": "2023-05-09T08:30:19.002985",
     "exception": false,
     "start_time": "2023-05-09T08:30:09.149675",
     "status": "completed"
    },
    "tags": [],
    "trusted": true
   },
   "outputs": [],
   "source": [
    "import tensorflow as tf\n",
    "import pandas as pd\n",
    "import numpy as np\n",
    "import seaborn as sns\n",
    "import matplotlib.pyplot as plt\n",
    "\n",
    "# Required for progressbar widget\n",
    "import progressbar"
   ]
  },
  {
   "cell_type": "code",
   "execution_count": 2,
   "metadata": {
    "execution": {
     "iopub.execute_input": "2024-05-07T06:17:43.955853Z",
     "iopub.status.busy": "2024-05-07T06:17:43.954982Z",
     "iopub.status.idle": "2024-05-07T06:17:43.961175Z",
     "shell.execute_reply": "2024-05-07T06:17:43.960113Z",
     "shell.execute_reply.started": "2024-05-07T06:17:43.955818Z"
    },
    "id": "oMX8mzgkdnFD",
    "papermill": {
     "duration": 0.018272,
     "end_time": "2023-05-09T08:30:19.030432",
     "exception": false,
     "start_time": "2023-05-09T08:30:19.01216",
     "status": "completed"
    },
    "tags": [],
    "trusted": true
   },
   "outputs": [
    {
     "name": "stdout",
     "output_type": "stream",
     "text": [
      "TensorFlow v2.18.0\n",
      "Numpy v2.0.2\n"
     ]
    }
   ],
   "source": [
    "print(\"TensorFlow v\" + tf.__version__)\n",
    "print(\"Numpy v\" + np.__version__)"
   ]
  },
  {
   "cell_type": "markdown",
   "metadata": {
    "id": "TEGLYCkkdnFE",
    "papermill": {
     "duration": 0.008429,
     "end_time": "2023-05-09T08:30:19.047756",
     "exception": false,
     "start_time": "2023-05-09T08:30:19.039327",
     "status": "completed"
    },
    "tags": []
   },
   "source": [
    "# Load the Dataset"
   ]
  },
  {
   "cell_type": "code",
   "execution_count": 3,
   "metadata": {
    "execution": {
     "iopub.execute_input": "2024-05-07T06:36:20.105793Z",
     "iopub.status.busy": "2024-05-07T06:36:20.105309Z",
     "iopub.status.idle": "2024-05-07T06:36:22.810967Z",
     "shell.execute_reply": "2024-05-07T06:36:22.80962Z",
     "shell.execute_reply.started": "2024-05-07T06:36:20.105756Z"
    },
    "id": "rED_bQIDdnFF",
    "papermill": {
     "duration": 3.69155,
     "end_time": "2023-05-09T08:30:22.766144",
     "exception": false,
     "start_time": "2023-05-09T08:30:19.074594",
     "status": "completed"
    },
    "tags": [],
    "trusted": true
   },
   "outputs": [
    {
     "name": "stdout",
     "output_type": "stream",
     "text": [
      "(5363863, 3)\n"
     ]
    }
   ],
   "source": [
    "train_terms = pd.read_csv(\"./input/cafa-5-protein-function-prediction/Train/train_terms.tsv\",sep=\"\\t\")\n",
    "print(train_terms.shape)"
   ]
  },
  {
   "cell_type": "code",
   "execution_count": 4,
   "metadata": {
    "execution": {
     "iopub.execute_input": "2024-05-07T06:36:22.813224Z",
     "iopub.status.busy": "2024-05-07T06:36:22.812871Z",
     "iopub.status.idle": "2024-05-07T06:36:23.201768Z",
     "shell.execute_reply": "2024-05-07T06:36:23.200481Z",
     "shell.execute_reply.started": "2024-05-07T06:36:22.813193Z"
    },
    "id": "iRFMnkU1dnFG",
    "trusted": true
   },
   "outputs": [],
   "source": [
    "unique_entry_ids = pd.Series(train_terms[\"EntryID\"].unique())\n",
    "sampled_entry_ids = unique_entry_ids.sample(n=30000, random_state=42)"
   ]
  },
  {
   "cell_type": "code",
   "execution_count": 5,
   "metadata": {
    "execution": {
     "iopub.execute_input": "2024-05-07T06:36:23.205149Z",
     "iopub.status.busy": "2024-05-07T06:36:23.204781Z",
     "iopub.status.idle": "2024-05-07T06:36:23.724305Z",
     "shell.execute_reply": "2024-05-07T06:36:23.72317Z",
     "shell.execute_reply.started": "2024-05-07T06:36:23.205119Z"
    },
    "id": "i88E5-4vdnFG",
    "papermill": {
     "duration": 0.038607,
     "end_time": "2023-05-09T08:30:22.830633",
     "exception": false,
     "start_time": "2023-05-09T08:30:22.792026",
     "status": "completed"
    },
    "tags": [],
    "trusted": true
   },
   "outputs": [
    {
     "data": {
      "text/html": [
       "<div>\n",
       "<style scoped>\n",
       "    .dataframe tbody tr th:only-of-type {\n",
       "        vertical-align: middle;\n",
       "    }\n",
       "\n",
       "    .dataframe tbody tr th {\n",
       "        vertical-align: top;\n",
       "    }\n",
       "\n",
       "    .dataframe thead th {\n",
       "        text-align: right;\n",
       "    }\n",
       "</style>\n",
       "<table border=\"1\" class=\"dataframe\">\n",
       "  <thead>\n",
       "    <tr style=\"text-align: right;\">\n",
       "      <th></th>\n",
       "      <th>EntryID</th>\n",
       "      <th>term</th>\n",
       "      <th>aspect</th>\n",
       "    </tr>\n",
       "  </thead>\n",
       "  <tbody>\n",
       "    <tr>\n",
       "      <th>0</th>\n",
       "      <td>A0A009IHW8</td>\n",
       "      <td>GO:0008152</td>\n",
       "      <td>BPO</td>\n",
       "    </tr>\n",
       "    <tr>\n",
       "      <th>1</th>\n",
       "      <td>A0A009IHW8</td>\n",
       "      <td>GO:0034655</td>\n",
       "      <td>BPO</td>\n",
       "    </tr>\n",
       "    <tr>\n",
       "      <th>2</th>\n",
       "      <td>A0A009IHW8</td>\n",
       "      <td>GO:0072523</td>\n",
       "      <td>BPO</td>\n",
       "    </tr>\n",
       "    <tr>\n",
       "      <th>3</th>\n",
       "      <td>A0A009IHW8</td>\n",
       "      <td>GO:0044270</td>\n",
       "      <td>BPO</td>\n",
       "    </tr>\n",
       "    <tr>\n",
       "      <th>4</th>\n",
       "      <td>A0A009IHW8</td>\n",
       "      <td>GO:0006753</td>\n",
       "      <td>BPO</td>\n",
       "    </tr>\n",
       "    <tr>\n",
       "      <th>...</th>\n",
       "      <td>...</td>\n",
       "      <td>...</td>\n",
       "      <td>...</td>\n",
       "    </tr>\n",
       "    <tr>\n",
       "      <th>5363852</th>\n",
       "      <td>X5L1L5</td>\n",
       "      <td>GO:0050649</td>\n",
       "      <td>MFO</td>\n",
       "    </tr>\n",
       "    <tr>\n",
       "      <th>5363853</th>\n",
       "      <td>X5L1L5</td>\n",
       "      <td>GO:0016491</td>\n",
       "      <td>MFO</td>\n",
       "    </tr>\n",
       "    <tr>\n",
       "      <th>5363860</th>\n",
       "      <td>X5M5N0</td>\n",
       "      <td>GO:0005515</td>\n",
       "      <td>MFO</td>\n",
       "    </tr>\n",
       "    <tr>\n",
       "      <th>5363861</th>\n",
       "      <td>X5M5N0</td>\n",
       "      <td>GO:0005488</td>\n",
       "      <td>MFO</td>\n",
       "    </tr>\n",
       "    <tr>\n",
       "      <th>5363862</th>\n",
       "      <td>X5M5N0</td>\n",
       "      <td>GO:0003674</td>\n",
       "      <td>MFO</td>\n",
       "    </tr>\n",
       "  </tbody>\n",
       "</table>\n",
       "<p>1131566 rows × 3 columns</p>\n",
       "</div>"
      ],
      "text/plain": [
       "            EntryID        term aspect\n",
       "0        A0A009IHW8  GO:0008152    BPO\n",
       "1        A0A009IHW8  GO:0034655    BPO\n",
       "2        A0A009IHW8  GO:0072523    BPO\n",
       "3        A0A009IHW8  GO:0044270    BPO\n",
       "4        A0A009IHW8  GO:0006753    BPO\n",
       "...             ...         ...    ...\n",
       "5363852      X5L1L5  GO:0050649    MFO\n",
       "5363853      X5L1L5  GO:0016491    MFO\n",
       "5363860      X5M5N0  GO:0005515    MFO\n",
       "5363861      X5M5N0  GO:0005488    MFO\n",
       "5363862      X5M5N0  GO:0003674    MFO\n",
       "\n",
       "[1131566 rows x 3 columns]"
      ]
     },
     "execution_count": 5,
     "metadata": {},
     "output_type": "execute_result"
    }
   ],
   "source": [
    "train_terms = train_terms[train_terms.EntryID.isin(sampled_entry_ids)]\n",
    "train_terms"
   ]
  },
  {
   "cell_type": "code",
   "execution_count": 6,
   "metadata": {
    "execution": {
     "iopub.execute_input": "2024-05-07T06:36:23.726691Z",
     "iopub.status.busy": "2024-05-07T06:36:23.726097Z",
     "iopub.status.idle": "2024-05-07T06:36:23.792417Z",
     "shell.execute_reply": "2024-05-07T06:36:23.791477Z",
     "shell.execute_reply.started": "2024-05-07T06:36:23.726657Z"
    },
    "id": "48-mToEMdnFG",
    "trusted": true
   },
   "outputs": [
    {
     "data": {
      "text/plain": [
       "30000"
      ]
     },
     "execution_count": 6,
     "metadata": {},
     "output_type": "execute_result"
    }
   ],
   "source": [
    "len(train_terms.EntryID.unique())"
   ]
  },
  {
   "cell_type": "markdown",
   "metadata": {
    "id": "W70l8S69dnFH"
   },
   "source": [
    "# Loading the protein embeddings"
   ]
  },
  {
   "cell_type": "code",
   "execution_count": 7,
   "metadata": {
    "execution": {
     "iopub.execute_input": "2024-05-07T06:31:00.463274Z",
     "iopub.status.busy": "2024-05-07T06:31:00.46289Z",
     "iopub.status.idle": "2024-05-07T06:31:00.474516Z",
     "shell.execute_reply": "2024-05-07T06:31:00.473649Z",
     "shell.execute_reply.started": "2024-05-07T06:31:00.463246Z"
    },
    "id": "ujcr5FHwdnFI",
    "papermill": {
     "duration": 0.067806,
     "end_time": "2023-05-09T08:30:22.944355",
     "exception": false,
     "start_time": "2023-05-09T08:30:22.876549",
     "status": "completed"
    },
    "tags": [],
    "trusted": true
   },
   "outputs": [
    {
     "name": "stdout",
     "output_type": "stream",
     "text": [
      "(142246,)\n"
     ]
    }
   ],
   "source": [
    "train_protein_ids = np.load('./input/t5embeds/train_ids.npy')\n",
    "print(train_protein_ids.shape)"
   ]
  },
  {
   "cell_type": "code",
   "execution_count": 8,
   "metadata": {
    "execution": {
     "iopub.execute_input": "2024-05-07T06:31:23.631849Z",
     "iopub.status.busy": "2024-05-07T06:31:23.6314Z",
     "iopub.status.idle": "2024-05-07T06:31:23.65292Z",
     "shell.execute_reply": "2024-05-07T06:31:23.650402Z",
     "shell.execute_reply.started": "2024-05-07T06:31:23.631813Z"
    },
    "id": "rEI3fD-_dnFI",
    "trusted": true
   },
   "outputs": [],
   "source": [
    "train_protein_ids = pd.Series(train_protein_ids)\n",
    "train_protein_ids = train_protein_ids[train_protein_ids.isin(sampled_entry_ids)]"
   ]
  },
  {
   "cell_type": "code",
   "execution_count": 9,
   "metadata": {
    "execution": {
     "iopub.execute_input": "2024-05-07T06:33:20.258974Z",
     "iopub.status.busy": "2024-05-07T06:33:20.258587Z",
     "iopub.status.idle": "2024-05-07T06:33:20.267867Z",
     "shell.execute_reply": "2024-05-07T06:33:20.266504Z",
     "shell.execute_reply.started": "2024-05-07T06:33:20.258945Z"
    },
    "id": "rntdSCNYdnFJ",
    "papermill": {
     "duration": 0.019907,
     "end_time": "2023-05-09T08:30:22.992625",
     "exception": false,
     "start_time": "2023-05-09T08:30:22.972718",
     "status": "completed"
    },
    "tags": [],
    "trusted": true
   },
   "outputs": [
    {
     "data": {
      "text/plain": [
       "Index([     2,      7,     23,     27,     31,     36,     42,     48,     57,\n",
       "           62,\n",
       "       ...\n",
       "       142196, 142199, 142200, 142209, 142215, 142216, 142217, 142220, 142226,\n",
       "       142245],\n",
       "      dtype='int64', length=30000)"
      ]
     },
     "execution_count": 9,
     "metadata": {},
     "output_type": "execute_result"
    }
   ],
   "source": [
    "train_protein_ids.index"
   ]
  },
  {
   "cell_type": "code",
   "execution_count": 10,
   "metadata": {
    "execution": {
     "iopub.execute_input": "2024-05-07T06:33:14.826438Z",
     "iopub.status.busy": "2024-05-07T06:33:14.825992Z",
     "iopub.status.idle": "2024-05-07T06:33:15.494964Z",
     "shell.execute_reply": "2024-05-07T06:33:15.493844Z",
     "shell.execute_reply.started": "2024-05-07T06:33:14.826406Z"
    },
    "id": "wDENR--RdnFJ",
    "papermill": {
     "duration": 9.719957,
     "end_time": "2023-05-09T08:30:32.741095",
     "exception": false,
     "start_time": "2023-05-09T08:30:23.021138",
     "status": "completed"
    },
    "tags": [],
    "trusted": true
   },
   "outputs": [
    {
     "name": "stdout",
     "output_type": "stream",
     "text": [
      "(142246, 1024)\n"
     ]
    }
   ],
   "source": [
    "train_embeddings = np.load('./input/t5embeds/train_embeds.npy')\n",
    "\n",
    "# Now lets convert embeddings numpy array(train_embeddings) into pandas dataframe.\n",
    "column_num = train_embeddings.shape[1]\n",
    "train_df = pd.DataFrame(train_embeddings, columns = [\"Column_\" + str(i) for i in range(1, column_num+1)])\n",
    "print(train_df.shape)"
   ]
  },
  {
   "cell_type": "code",
   "execution_count": 11,
   "metadata": {
    "execution": {
     "iopub.execute_input": "2024-05-07T06:34:32.368249Z",
     "iopub.status.busy": "2024-05-07T06:34:32.367871Z",
     "iopub.status.idle": "2024-05-07T06:34:32.476225Z",
     "shell.execute_reply": "2024-05-07T06:34:32.475132Z",
     "shell.execute_reply.started": "2024-05-07T06:34:32.36822Z"
    },
    "id": "Qd67l4RrdnFJ",
    "trusted": true
   },
   "outputs": [
    {
     "data": {
      "text/html": [
       "<div>\n",
       "<style scoped>\n",
       "    .dataframe tbody tr th:only-of-type {\n",
       "        vertical-align: middle;\n",
       "    }\n",
       "\n",
       "    .dataframe tbody tr th {\n",
       "        vertical-align: top;\n",
       "    }\n",
       "\n",
       "    .dataframe thead th {\n",
       "        text-align: right;\n",
       "    }\n",
       "</style>\n",
       "<table border=\"1\" class=\"dataframe\">\n",
       "  <thead>\n",
       "    <tr style=\"text-align: right;\">\n",
       "      <th></th>\n",
       "      <th>Column_1</th>\n",
       "      <th>Column_2</th>\n",
       "      <th>Column_3</th>\n",
       "      <th>Column_4</th>\n",
       "      <th>Column_5</th>\n",
       "      <th>Column_6</th>\n",
       "      <th>Column_7</th>\n",
       "      <th>Column_8</th>\n",
       "      <th>Column_9</th>\n",
       "      <th>Column_10</th>\n",
       "      <th>...</th>\n",
       "      <th>Column_1015</th>\n",
       "      <th>Column_1016</th>\n",
       "      <th>Column_1017</th>\n",
       "      <th>Column_1018</th>\n",
       "      <th>Column_1019</th>\n",
       "      <th>Column_1020</th>\n",
       "      <th>Column_1021</th>\n",
       "      <th>Column_1022</th>\n",
       "      <th>Column_1023</th>\n",
       "      <th>Column_1024</th>\n",
       "    </tr>\n",
       "  </thead>\n",
       "  <tbody>\n",
       "    <tr>\n",
       "      <th>2</th>\n",
       "      <td>-0.020128</td>\n",
       "      <td>-0.049779</td>\n",
       "      <td>0.007894</td>\n",
       "      <td>-0.000829</td>\n",
       "      <td>-0.047737</td>\n",
       "      <td>0.086453</td>\n",
       "      <td>-0.038107</td>\n",
       "      <td>-0.036379</td>\n",
       "      <td>0.029611</td>\n",
       "      <td>0.045029</td>\n",
       "      <td>...</td>\n",
       "      <td>0.029388</td>\n",
       "      <td>0.008456</td>\n",
       "      <td>0.000697</td>\n",
       "      <td>0.013502</td>\n",
       "      <td>-0.005968</td>\n",
       "      <td>-0.011571</td>\n",
       "      <td>0.005704</td>\n",
       "      <td>-0.036103</td>\n",
       "      <td>0.007693</td>\n",
       "      <td>0.106234</td>\n",
       "    </tr>\n",
       "    <tr>\n",
       "      <th>7</th>\n",
       "      <td>0.007108</td>\n",
       "      <td>0.015627</td>\n",
       "      <td>0.074379</td>\n",
       "      <td>-0.001099</td>\n",
       "      <td>-0.003584</td>\n",
       "      <td>0.022627</td>\n",
       "      <td>-0.001857</td>\n",
       "      <td>-0.042442</td>\n",
       "      <td>0.075130</td>\n",
       "      <td>-0.014907</td>\n",
       "      <td>...</td>\n",
       "      <td>-0.017345</td>\n",
       "      <td>-0.063895</td>\n",
       "      <td>0.021089</td>\n",
       "      <td>0.004839</td>\n",
       "      <td>0.041191</td>\n",
       "      <td>0.010720</td>\n",
       "      <td>0.016241</td>\n",
       "      <td>0.025502</td>\n",
       "      <td>0.051283</td>\n",
       "      <td>-0.016549</td>\n",
       "    </tr>\n",
       "    <tr>\n",
       "      <th>23</th>\n",
       "      <td>0.007159</td>\n",
       "      <td>-0.021914</td>\n",
       "      <td>-0.006876</td>\n",
       "      <td>0.024132</td>\n",
       "      <td>-0.002332</td>\n",
       "      <td>0.076055</td>\n",
       "      <td>-0.079528</td>\n",
       "      <td>-0.044097</td>\n",
       "      <td>0.039925</td>\n",
       "      <td>-0.052741</td>\n",
       "      <td>...</td>\n",
       "      <td>-0.022830</td>\n",
       "      <td>0.009206</td>\n",
       "      <td>0.036331</td>\n",
       "      <td>-0.074084</td>\n",
       "      <td>0.052513</td>\n",
       "      <td>-0.016132</td>\n",
       "      <td>0.032741</td>\n",
       "      <td>-0.002499</td>\n",
       "      <td>0.054621</td>\n",
       "      <td>0.023362</td>\n",
       "    </tr>\n",
       "    <tr>\n",
       "      <th>27</th>\n",
       "      <td>-0.005525</td>\n",
       "      <td>0.012020</td>\n",
       "      <td>0.041889</td>\n",
       "      <td>-0.002907</td>\n",
       "      <td>-0.028546</td>\n",
       "      <td>0.021716</td>\n",
       "      <td>-0.008641</td>\n",
       "      <td>-0.067096</td>\n",
       "      <td>0.054098</td>\n",
       "      <td>0.021957</td>\n",
       "      <td>...</td>\n",
       "      <td>-0.026123</td>\n",
       "      <td>0.020873</td>\n",
       "      <td>-0.007648</td>\n",
       "      <td>-0.031139</td>\n",
       "      <td>0.057433</td>\n",
       "      <td>-0.001657</td>\n",
       "      <td>-0.010208</td>\n",
       "      <td>-0.004205</td>\n",
       "      <td>-0.005226</td>\n",
       "      <td>0.014905</td>\n",
       "    </tr>\n",
       "    <tr>\n",
       "      <th>31</th>\n",
       "      <td>-0.024888</td>\n",
       "      <td>0.001236</td>\n",
       "      <td>0.043671</td>\n",
       "      <td>-0.064294</td>\n",
       "      <td>0.061739</td>\n",
       "      <td>0.041889</td>\n",
       "      <td>-0.026591</td>\n",
       "      <td>-0.109730</td>\n",
       "      <td>0.023297</td>\n",
       "      <td>0.018219</td>\n",
       "      <td>...</td>\n",
       "      <td>0.015735</td>\n",
       "      <td>-0.002064</td>\n",
       "      <td>0.033222</td>\n",
       "      <td>-0.062870</td>\n",
       "      <td>0.041804</td>\n",
       "      <td>-0.027230</td>\n",
       "      <td>0.006839</td>\n",
       "      <td>-0.023512</td>\n",
       "      <td>0.051200</td>\n",
       "      <td>0.037080</td>\n",
       "    </tr>\n",
       "    <tr>\n",
       "      <th>...</th>\n",
       "      <td>...</td>\n",
       "      <td>...</td>\n",
       "      <td>...</td>\n",
       "      <td>...</td>\n",
       "      <td>...</td>\n",
       "      <td>...</td>\n",
       "      <td>...</td>\n",
       "      <td>...</td>\n",
       "      <td>...</td>\n",
       "      <td>...</td>\n",
       "      <td>...</td>\n",
       "      <td>...</td>\n",
       "      <td>...</td>\n",
       "      <td>...</td>\n",
       "      <td>...</td>\n",
       "      <td>...</td>\n",
       "      <td>...</td>\n",
       "      <td>...</td>\n",
       "      <td>...</td>\n",
       "      <td>...</td>\n",
       "      <td>...</td>\n",
       "    </tr>\n",
       "    <tr>\n",
       "      <th>142216</th>\n",
       "      <td>-0.001777</td>\n",
       "      <td>-0.085363</td>\n",
       "      <td>0.007407</td>\n",
       "      <td>0.025494</td>\n",
       "      <td>0.000616</td>\n",
       "      <td>0.022399</td>\n",
       "      <td>-0.064389</td>\n",
       "      <td>-0.045314</td>\n",
       "      <td>-0.004303</td>\n",
       "      <td>0.007644</td>\n",
       "      <td>...</td>\n",
       "      <td>-0.039913</td>\n",
       "      <td>-0.048208</td>\n",
       "      <td>0.001018</td>\n",
       "      <td>-0.010144</td>\n",
       "      <td>0.056718</td>\n",
       "      <td>0.047404</td>\n",
       "      <td>-0.000170</td>\n",
       "      <td>-0.016493</td>\n",
       "      <td>0.030739</td>\n",
       "      <td>-0.004321</td>\n",
       "    </tr>\n",
       "    <tr>\n",
       "      <th>142217</th>\n",
       "      <td>0.006750</td>\n",
       "      <td>0.018595</td>\n",
       "      <td>-0.003094</td>\n",
       "      <td>-0.021610</td>\n",
       "      <td>0.039002</td>\n",
       "      <td>0.044726</td>\n",
       "      <td>-0.067659</td>\n",
       "      <td>-0.112213</td>\n",
       "      <td>0.043882</td>\n",
       "      <td>0.039287</td>\n",
       "      <td>...</td>\n",
       "      <td>0.004462</td>\n",
       "      <td>-0.016040</td>\n",
       "      <td>-0.014282</td>\n",
       "      <td>-0.057910</td>\n",
       "      <td>0.045051</td>\n",
       "      <td>-0.027988</td>\n",
       "      <td>-0.029104</td>\n",
       "      <td>-0.009226</td>\n",
       "      <td>0.085498</td>\n",
       "      <td>0.054317</td>\n",
       "    </tr>\n",
       "    <tr>\n",
       "      <th>142220</th>\n",
       "      <td>0.038637</td>\n",
       "      <td>0.026872</td>\n",
       "      <td>-0.006892</td>\n",
       "      <td>0.032962</td>\n",
       "      <td>0.013990</td>\n",
       "      <td>0.066377</td>\n",
       "      <td>-0.049481</td>\n",
       "      <td>-0.098170</td>\n",
       "      <td>0.062239</td>\n",
       "      <td>-0.011238</td>\n",
       "      <td>...</td>\n",
       "      <td>0.022836</td>\n",
       "      <td>-0.008828</td>\n",
       "      <td>-0.018834</td>\n",
       "      <td>-0.077278</td>\n",
       "      <td>0.068043</td>\n",
       "      <td>0.006519</td>\n",
       "      <td>-0.024983</td>\n",
       "      <td>0.018604</td>\n",
       "      <td>0.101102</td>\n",
       "      <td>0.020500</td>\n",
       "    </tr>\n",
       "    <tr>\n",
       "      <th>142226</th>\n",
       "      <td>0.046083</td>\n",
       "      <td>0.022152</td>\n",
       "      <td>0.030201</td>\n",
       "      <td>0.014525</td>\n",
       "      <td>-0.000767</td>\n",
       "      <td>0.094797</td>\n",
       "      <td>-0.022135</td>\n",
       "      <td>-0.044653</td>\n",
       "      <td>0.017802</td>\n",
       "      <td>0.004684</td>\n",
       "      <td>...</td>\n",
       "      <td>-0.042518</td>\n",
       "      <td>0.003617</td>\n",
       "      <td>-0.001008</td>\n",
       "      <td>0.013616</td>\n",
       "      <td>0.073639</td>\n",
       "      <td>0.012859</td>\n",
       "      <td>0.051146</td>\n",
       "      <td>-0.006737</td>\n",
       "      <td>0.025557</td>\n",
       "      <td>0.003078</td>\n",
       "    </tr>\n",
       "    <tr>\n",
       "      <th>142245</th>\n",
       "      <td>0.021600</td>\n",
       "      <td>0.065170</td>\n",
       "      <td>0.074923</td>\n",
       "      <td>-0.017102</td>\n",
       "      <td>0.020362</td>\n",
       "      <td>0.015444</td>\n",
       "      <td>-0.046874</td>\n",
       "      <td>-0.137347</td>\n",
       "      <td>0.036991</td>\n",
       "      <td>-0.015204</td>\n",
       "      <td>...</td>\n",
       "      <td>-0.031984</td>\n",
       "      <td>0.042368</td>\n",
       "      <td>0.030095</td>\n",
       "      <td>-0.043313</td>\n",
       "      <td>0.008538</td>\n",
       "      <td>-0.033913</td>\n",
       "      <td>-0.048953</td>\n",
       "      <td>0.049666</td>\n",
       "      <td>-0.019875</td>\n",
       "      <td>0.044714</td>\n",
       "    </tr>\n",
       "  </tbody>\n",
       "</table>\n",
       "<p>30000 rows × 1024 columns</p>\n",
       "</div>"
      ],
      "text/plain": [
       "        Column_1  Column_2  Column_3  Column_4  Column_5  Column_6  Column_7  \\\n",
       "2      -0.020128 -0.049779  0.007894 -0.000829 -0.047737  0.086453 -0.038107   \n",
       "7       0.007108  0.015627  0.074379 -0.001099 -0.003584  0.022627 -0.001857   \n",
       "23      0.007159 -0.021914 -0.006876  0.024132 -0.002332  0.076055 -0.079528   \n",
       "27     -0.005525  0.012020  0.041889 -0.002907 -0.028546  0.021716 -0.008641   \n",
       "31     -0.024888  0.001236  0.043671 -0.064294  0.061739  0.041889 -0.026591   \n",
       "...          ...       ...       ...       ...       ...       ...       ...   \n",
       "142216 -0.001777 -0.085363  0.007407  0.025494  0.000616  0.022399 -0.064389   \n",
       "142217  0.006750  0.018595 -0.003094 -0.021610  0.039002  0.044726 -0.067659   \n",
       "142220  0.038637  0.026872 -0.006892  0.032962  0.013990  0.066377 -0.049481   \n",
       "142226  0.046083  0.022152  0.030201  0.014525 -0.000767  0.094797 -0.022135   \n",
       "142245  0.021600  0.065170  0.074923 -0.017102  0.020362  0.015444 -0.046874   \n",
       "\n",
       "        Column_8  Column_9  Column_10  ...  Column_1015  Column_1016  \\\n",
       "2      -0.036379  0.029611   0.045029  ...     0.029388     0.008456   \n",
       "7      -0.042442  0.075130  -0.014907  ...    -0.017345    -0.063895   \n",
       "23     -0.044097  0.039925  -0.052741  ...    -0.022830     0.009206   \n",
       "27     -0.067096  0.054098   0.021957  ...    -0.026123     0.020873   \n",
       "31     -0.109730  0.023297   0.018219  ...     0.015735    -0.002064   \n",
       "...          ...       ...        ...  ...          ...          ...   \n",
       "142216 -0.045314 -0.004303   0.007644  ...    -0.039913    -0.048208   \n",
       "142217 -0.112213  0.043882   0.039287  ...     0.004462    -0.016040   \n",
       "142220 -0.098170  0.062239  -0.011238  ...     0.022836    -0.008828   \n",
       "142226 -0.044653  0.017802   0.004684  ...    -0.042518     0.003617   \n",
       "142245 -0.137347  0.036991  -0.015204  ...    -0.031984     0.042368   \n",
       "\n",
       "        Column_1017  Column_1018  Column_1019  Column_1020  Column_1021  \\\n",
       "2          0.000697     0.013502    -0.005968    -0.011571     0.005704   \n",
       "7          0.021089     0.004839     0.041191     0.010720     0.016241   \n",
       "23         0.036331    -0.074084     0.052513    -0.016132     0.032741   \n",
       "27        -0.007648    -0.031139     0.057433    -0.001657    -0.010208   \n",
       "31         0.033222    -0.062870     0.041804    -0.027230     0.006839   \n",
       "...             ...          ...          ...          ...          ...   \n",
       "142216     0.001018    -0.010144     0.056718     0.047404    -0.000170   \n",
       "142217    -0.014282    -0.057910     0.045051    -0.027988    -0.029104   \n",
       "142220    -0.018834    -0.077278     0.068043     0.006519    -0.024983   \n",
       "142226    -0.001008     0.013616     0.073639     0.012859     0.051146   \n",
       "142245     0.030095    -0.043313     0.008538    -0.033913    -0.048953   \n",
       "\n",
       "        Column_1022  Column_1023  Column_1024  \n",
       "2         -0.036103     0.007693     0.106234  \n",
       "7          0.025502     0.051283    -0.016549  \n",
       "23        -0.002499     0.054621     0.023362  \n",
       "27        -0.004205    -0.005226     0.014905  \n",
       "31        -0.023512     0.051200     0.037080  \n",
       "...             ...          ...          ...  \n",
       "142216    -0.016493     0.030739    -0.004321  \n",
       "142217    -0.009226     0.085498     0.054317  \n",
       "142220     0.018604     0.101102     0.020500  \n",
       "142226    -0.006737     0.025557     0.003078  \n",
       "142245     0.049666    -0.019875     0.044714  \n",
       "\n",
       "[30000 rows x 1024 columns]"
      ]
     },
     "execution_count": 11,
     "metadata": {},
     "output_type": "execute_result"
    }
   ],
   "source": [
    "train_df = train_df.loc[train_protein_ids.index]\n",
    "train_df"
   ]
  },
  {
   "cell_type": "markdown",
   "metadata": {
    "id": "NiS_fVjYdnFK",
    "papermill": {
     "duration": 0.009208,
     "end_time": "2023-05-09T08:30:32.825978",
     "exception": false,
     "start_time": "2023-05-09T08:30:32.81677",
     "status": "completed"
    },
    "tags": []
   },
   "source": [
    "# Prepare the dataset"
   ]
  },
  {
   "cell_type": "code",
   "execution_count": 57,
   "metadata": {
    "execution": {
     "iopub.execute_input": "2024-05-07T06:34:48.271216Z",
     "iopub.status.busy": "2024-05-07T06:34:48.270806Z",
     "iopub.status.idle": "2024-05-07T06:34:49.528463Z",
     "shell.execute_reply": "2024-05-07T06:34:49.527346Z",
     "shell.execute_reply.started": "2024-05-07T06:34:48.271184Z"
    },
    "id": "z3NqXceTdnFL",
    "papermill": {
     "duration": 1.592489,
     "end_time": "2023-05-09T08:30:34.465912",
     "exception": false,
     "start_time": "2023-05-09T08:30:32.873423",
     "status": "completed"
    },
    "tags": [],
    "trusted": true
   },
   "outputs": [
    {
     "name": "stderr",
     "output_type": "stream",
     "text": [
      "C:\\Users\\gautam\\AppData\\Local\\Temp\\ipykernel_18868\\4211160443.py:7: UserWarning: set_ticklabels() should only be used with a fixed number of ticks, i.e. after set_ticks() or using a FixedLocator.\n",
      "  bp.set_xticklabels(bp.get_xticklabels(), rotation=90, size = 6)\n"
     ]
    }
   ],
   "source": [
    "# Select first 1500 values for plotting\n",
    "plot_df = train_terms['term'].value_counts().iloc[:100]\n",
    "\n",
    "figure, axis = plt.subplots(1, 1, figsize=(12, 6))\n",
    "\n",
    "bp = sns.barplot(ax=axis, x=np.array(plot_df.index), y=plot_df.values)\n",
    "bp.set_xticklabels(bp.get_xticklabels(), rotation=90, size = 6)\n",
    "axis.set_title('Top 100 frequent GO term IDs')\n",
    "bp.set_xlabel(\"GO term IDs\", fontsize = 12)\n",
    "bp.set_ylabel(\"Count\", fontsize = 12)\n",
    "pie_chart_file = './output/aspect_pie_chart.png'\n",
    "plt.savefig(pie_chart_file)\n",
    "plt.close()  \n"
   ]
  },
  {
   "cell_type": "code",
   "execution_count": 13,
   "metadata": {
    "execution": {
     "iopub.execute_input": "2024-05-07T06:35:35.847259Z",
     "iopub.status.busy": "2024-05-07T06:35:35.846844Z",
     "iopub.status.idle": "2024-05-07T06:35:35.934162Z",
     "shell.execute_reply": "2024-05-07T06:35:35.932769Z",
     "shell.execute_reply.started": "2024-05-07T06:35:35.847225Z"
    },
    "id": "q8SqUYMGdnFL",
    "papermill": {
     "duration": 0.523976,
     "end_time": "2023-05-09T08:30:35.021974",
     "exception": false,
     "start_time": "2023-05-09T08:30:34.497998",
     "status": "completed"
    },
    "tags": [],
    "trusted": true
   },
   "outputs": [],
   "source": [
    "# Set the limit for label\n",
    "num_of_labels = 1000\n",
    "\n",
    "# Take value counts in descending order and fetch first 1500 `GO term ID` as labels\n",
    "labels = train_terms['term'].value_counts().index[:num_of_labels].tolist()"
   ]
  },
  {
   "cell_type": "code",
   "execution_count": 14,
   "metadata": {
    "execution": {
     "iopub.execute_input": "2024-05-07T06:36:45.324647Z",
     "iopub.status.busy": "2024-05-07T06:36:45.322094Z",
     "iopub.status.idle": "2024-05-07T06:36:45.415054Z",
     "shell.execute_reply": "2024-05-07T06:36:45.413962Z",
     "shell.execute_reply.started": "2024-05-07T06:36:45.324588Z"
    },
    "id": "yu1SooQOdnFM",
    "papermill": {
     "duration": 0.668657,
     "end_time": "2023-05-09T08:30:35.720953",
     "exception": false,
     "start_time": "2023-05-09T08:30:35.052296",
     "status": "completed"
    },
    "tags": [],
    "trusted": true
   },
   "outputs": [
    {
     "data": {
      "text/html": [
       "<div>\n",
       "<style scoped>\n",
       "    .dataframe tbody tr th:only-of-type {\n",
       "        vertical-align: middle;\n",
       "    }\n",
       "\n",
       "    .dataframe tbody tr th {\n",
       "        vertical-align: top;\n",
       "    }\n",
       "\n",
       "    .dataframe thead th {\n",
       "        text-align: right;\n",
       "    }\n",
       "</style>\n",
       "<table border=\"1\" class=\"dataframe\">\n",
       "  <thead>\n",
       "    <tr style=\"text-align: right;\">\n",
       "      <th></th>\n",
       "      <th>EntryID</th>\n",
       "      <th>term</th>\n",
       "      <th>aspect</th>\n",
       "    </tr>\n",
       "  </thead>\n",
       "  <tbody>\n",
       "    <tr>\n",
       "      <th>0</th>\n",
       "      <td>A0A009IHW8</td>\n",
       "      <td>GO:0008152</td>\n",
       "      <td>BPO</td>\n",
       "    </tr>\n",
       "    <tr>\n",
       "      <th>1</th>\n",
       "      <td>A0A009IHW8</td>\n",
       "      <td>GO:0034655</td>\n",
       "      <td>BPO</td>\n",
       "    </tr>\n",
       "    <tr>\n",
       "      <th>3</th>\n",
       "      <td>A0A009IHW8</td>\n",
       "      <td>GO:0044270</td>\n",
       "      <td>BPO</td>\n",
       "    </tr>\n",
       "    <tr>\n",
       "      <th>4</th>\n",
       "      <td>A0A009IHW8</td>\n",
       "      <td>GO:0006753</td>\n",
       "      <td>BPO</td>\n",
       "    </tr>\n",
       "    <tr>\n",
       "      <th>6</th>\n",
       "      <td>A0A009IHW8</td>\n",
       "      <td>GO:0044237</td>\n",
       "      <td>BPO</td>\n",
       "    </tr>\n",
       "    <tr>\n",
       "      <th>...</th>\n",
       "      <td>...</td>\n",
       "      <td>...</td>\n",
       "      <td>...</td>\n",
       "    </tr>\n",
       "    <tr>\n",
       "      <th>5363851</th>\n",
       "      <td>X5L1L5</td>\n",
       "      <td>GO:0003674</td>\n",
       "      <td>MFO</td>\n",
       "    </tr>\n",
       "    <tr>\n",
       "      <th>5363853</th>\n",
       "      <td>X5L1L5</td>\n",
       "      <td>GO:0016491</td>\n",
       "      <td>MFO</td>\n",
       "    </tr>\n",
       "    <tr>\n",
       "      <th>5363860</th>\n",
       "      <td>X5M5N0</td>\n",
       "      <td>GO:0005515</td>\n",
       "      <td>MFO</td>\n",
       "    </tr>\n",
       "    <tr>\n",
       "      <th>5363861</th>\n",
       "      <td>X5M5N0</td>\n",
       "      <td>GO:0005488</td>\n",
       "      <td>MFO</td>\n",
       "    </tr>\n",
       "    <tr>\n",
       "      <th>5363862</th>\n",
       "      <td>X5M5N0</td>\n",
       "      <td>GO:0003674</td>\n",
       "      <td>MFO</td>\n",
       "    </tr>\n",
       "  </tbody>\n",
       "</table>\n",
       "<p>874166 rows × 3 columns</p>\n",
       "</div>"
      ],
      "text/plain": [
       "            EntryID        term aspect\n",
       "0        A0A009IHW8  GO:0008152    BPO\n",
       "1        A0A009IHW8  GO:0034655    BPO\n",
       "3        A0A009IHW8  GO:0044270    BPO\n",
       "4        A0A009IHW8  GO:0006753    BPO\n",
       "6        A0A009IHW8  GO:0044237    BPO\n",
       "...             ...         ...    ...\n",
       "5363851      X5L1L5  GO:0003674    MFO\n",
       "5363853      X5L1L5  GO:0016491    MFO\n",
       "5363860      X5M5N0  GO:0005515    MFO\n",
       "5363861      X5M5N0  GO:0005488    MFO\n",
       "5363862      X5M5N0  GO:0003674    MFO\n",
       "\n",
       "[874166 rows x 3 columns]"
      ]
     },
     "execution_count": 14,
     "metadata": {},
     "output_type": "execute_result"
    }
   ],
   "source": [
    "# Fetch the train_terms data for the relevant labels only\n",
    "train_terms_updated = train_terms.loc[train_terms['term'].isin(labels)]\n",
    "train_terms_updated"
   ]
  },
  {
   "cell_type": "code",
   "execution_count": 58,
   "metadata": {
    "execution": {
     "iopub.execute_input": "2024-05-07T06:36:52.946822Z",
     "iopub.status.busy": "2024-05-07T06:36:52.946412Z",
     "iopub.status.idle": "2024-05-07T06:36:53.132852Z",
     "shell.execute_reply": "2024-05-07T06:36:53.131755Z",
     "shell.execute_reply.started": "2024-05-07T06:36:52.946791Z"
    },
    "id": "il4mP8UKdnFM",
    "papermill": {
     "duration": 0.419624,
     "end_time": "2023-05-09T08:30:36.171193",
     "exception": false,
     "start_time": "2023-05-09T08:30:35.751569",
     "status": "completed"
    },
    "tags": [],
    "trusted": true
   },
   "outputs": [
    {
     "data": {
      "image/png": "[encoded data removed]",
      "text/plain": [
       "<Figure size 640x480 with 1 Axes>"
      ]
     },
     "metadata": {},
     "output_type": "display_data"
    }
   ],
   "source": [
    "pie_df = train_terms_updated['aspect'].value_counts()\n",
    "palette_color = sns.color_palette('bright')\n",
    "plt.pie(pie_df.values, labels=np.array(pie_df.index), colors=palette_color, autopct='%.0f%%')\n",
    "pie_chart_file = './output/pie_chart.png'\n",
    "plt.savefig(pie_chart_file)\n",
    "plt.show()"
   ]
  },
  {
   "cell_type": "code",
   "execution_count": null,
   "metadata": {},
   "outputs": [],
   "source": [
    "fig, ax = plt.subplots(figsize=(12, 8))\n",
    "\n",
    "train_terms['aspect'].value_counts().plot.pie(autopct='%1.1f%%', ax=ax, explode=[0.1, 0.1, 0.1], shadow=True)\n",
    "pie_chart_file = './output/aspect_pie_chart.png'\n",
    "plt.savefig(pie_chart_file)\n",
    "plt.close()  "
   ]
  },
  {
   "cell_type": "code",
   "execution_count": 16,
   "metadata": {
    "execution": {
     "iopub.execute_input": "2024-05-07T06:37:27.156931Z",
     "iopub.status.busy": "2024-05-07T06:37:27.156512Z",
     "iopub.status.idle": "2024-05-07T06:38:16.142443Z",
     "shell.execute_reply": "2024-05-07T06:38:16.141228Z",
     "shell.execute_reply.started": "2024-05-07T06:37:27.156901Z"
    },
    "id": "LTTyqKXIdnFX",
    "papermill": {
     "duration": 495.729474,
     "end_time": "2023-05-09T08:38:51.951408",
     "exception": false,
     "start_time": "2023-05-09T08:30:36.221934",
     "status": "completed"
    },
    "tags": [],
    "trusted": true
   },
   "outputs": [
    {
     "name": "stderr",
     "output_type": "stream",
     "text": [
      "[                                                                        ]   0%\n",
      "[                                                                        ]   1%\n",
      "[=                                                                       ]   2%\n",
      "[==                                                                      ]   3%\n",
      "[===                                                                     ]   5%\n",
      "[====                                                                    ]   6%\n",
      "[=====                                                                   ]   7%\n",
      "[======                                                                  ]   8%\n",
      "[=======                                                                 ]  10%\n",
      "[========                                                                ]  11%\n",
      "[=========                                                               ]  12%\n",
      "[==========                                                              ]  14%\n",
      "[==========                                                              ]  15%\n",
      "[===========                                                             ]  16%\n",
      "[============                                                            ]  17%\n",
      "[=============                                                           ]  19%\n",
      "[==============                                                          ]  20%\n",
      "[===============                                                         ]  21%\n",
      "[================                                                        ]  22%\n",
      "[=================                                                       ]  24%\n",
      "[==================                                                      ]  25%\n",
      "[===================                                                     ]  26%\n",
      "[====================                                                    ]  27%\n",
      "[=====================                                                   ]  29%\n",
      "[=====================                                                   ]  30%\n",
      "[======================                                                  ]  31%\n",
      "[=======================                                                 ]  33%\n",
      "[========================                                                ]  34%\n",
      "[=========================                                               ]  35%\n",
      "[==========================                                              ]  36%\n",
      "[===========================                                             ]  38%\n",
      "[============================                                            ]  39%\n",
      "[=============================                                           ]  40%\n",
      "[==============================                                          ]  41%\n",
      "[===============================                                         ]  43%\n",
      "[===============================                                         ]  44%\n",
      "[================================                                        ]  45%\n",
      "[=================================                                       ]  46%\n",
      "[==================================                                      ]  48%\n",
      "[===================================                                     ]  49%\n",
      "[====================================                                    ]  50%\n",
      "[=====================================                                   ]  51%\n",
      "[======================================                                  ]  53%\n",
      "[=======================================                                 ]  54%\n",
      "[========================================                                ]  55%\n",
      "[=========================================                               ]  57%\n",
      "[=========================================                               ]  58%\n",
      "[==========================================                              ]  59%\n",
      "[===========================================                             ]  60%\n",
      "[============================================                            ]  62%\n",
      "[=============================================                           ]  63%\n",
      "[==============================================                          ]  64%\n",
      "[===============================================                         ]  65%\n",
      "[================================================                        ]  67%\n",
      "[=================================================                       ]  68%\n",
      "[==================================================                      ]  69%\n",
      "[===================================================                     ]  70%\n",
      "[===================================================                     ]  72%\n",
      "[====================================================                    ]  73%\n",
      "[=====================================================                   ]  74%\n",
      "[======================================================                  ]  76%\n",
      "[=======================================================                 ]  77%\n",
      "[========================================================                ]  78%\n",
      "[=========================================================               ]  79%\n",
      "[==========================================================              ]  81%\n",
      "[===========================================================             ]  82%\n",
      "[============================================================            ]  83%\n",
      "[=============================================================           ]  84%\n",
      "[=============================================================           ]  86%\n",
      "[==============================================================          ]  87%\n",
      "[===============================================================         ]  88%\n",
      "[================================================================        ]  89%\n",
      "[=================================================================       ]  91%\n",
      "[==================================================================      ]  92%\n",
      "[===================================================================     ]  93%\n",
      "[====================================================================    ]  95%\n",
      "[=====================================================================   ]  96%\n",
      "[======================================================================  ]  97%\n",
      "[======================================================================= ]  98%\n",
      "[========================================================================] 100%\n",
      "[========================================================================] 100%\n"
     ]
    },
    {
     "name": "stdout",
     "output_type": "stream",
     "text": [
      "(30000, 1000)\n"
     ]
    }
   ],
   "source": [
    "# Setup progressbar settings.\n",
    "# This is strictly for aesthetic.\n",
    "bar = progressbar.ProgressBar(maxval=num_of_labels, \\\n",
    "    widgets=[progressbar.Bar('=', '[', ']'), ' ', progressbar.Percentage()])\n",
    "\n",
    "# Create an empty dataframe of required size for storing the labels,\n",
    "# i.e, train_size x num_of_labels (142246 x 1500)\n",
    "train_size = train_protein_ids.shape[0] # len(X)\n",
    "train_labels = np.zeros((train_size ,num_of_labels))\n",
    "\n",
    "# Convert from numpy to pandas series for better handling\n",
    "series_train_protein_ids = pd.Series(train_protein_ids)\n",
    "\n",
    "# Loop through each label\n",
    "for i in range(num_of_labels):\n",
    "    # For each label, fetch the corresponding train_terms data\n",
    "    n_train_terms = train_terms_updated[train_terms_updated['term'] ==  labels[i]]\n",
    "\n",
    "    # Fetch all the unique EntryId aka proteins related to the current label(GO term ID)\n",
    "    label_related_proteins = n_train_terms['EntryID'].unique()\n",
    "\n",
    "    # In the series_train_protein_ids pandas series, if a protein is related\n",
    "    # to the current label, then mark it as 1, else 0.\n",
    "    # Replace the ith column of train_Y with with that pandas series.\n",
    "    train_labels[:,i] =  series_train_protein_ids.isin(label_related_proteins).astype(float)\n",
    "\n",
    "    # Progress bar percentage increase\n",
    "    bar.update(i+1)\n",
    "\n",
    "# Notify the end of progress bar\n",
    "bar.finish()\n",
    "\n",
    "# Convert train_Y numpy into pandas dataframe\n",
    "labels_df = pd.DataFrame(data = train_labels, columns = labels)\n",
    "print(labels_df.shape)"
   ]
  },
  {
   "cell_type": "code",
   "execution_count": 17,
   "metadata": {
    "execution": {
     "iopub.execute_input": "2024-05-07T06:38:20.999749Z",
     "iopub.status.busy": "2024-05-07T06:38:20.999281Z",
     "iopub.status.idle": "2024-05-07T06:38:21.060554Z",
     "shell.execute_reply": "2024-05-07T06:38:21.059342Z",
     "shell.execute_reply.started": "2024-05-07T06:38:20.999711Z"
    },
    "id": "5kHh77ZwdnFX",
    "papermill": {
     "duration": 0.048128,
     "end_time": "2023-05-09T08:38:52.031041",
     "exception": false,
     "start_time": "2023-05-09T08:38:51.982913",
     "status": "completed"
    },
    "tags": [],
    "trusted": true
   },
   "outputs": [
    {
     "data": {
      "text/html": [
       "<div>\n",
       "<style scoped>\n",
       "    .dataframe tbody tr th:only-of-type {\n",
       "        vertical-align: middle;\n",
       "    }\n",
       "\n",
       "    .dataframe tbody tr th {\n",
       "        vertical-align: top;\n",
       "    }\n",
       "\n",
       "    .dataframe thead th {\n",
       "        text-align: right;\n",
       "    }\n",
       "</style>\n",
       "<table border=\"1\" class=\"dataframe\">\n",
       "  <thead>\n",
       "    <tr style=\"text-align: right;\">\n",
       "      <th></th>\n",
       "      <th>GO:0005575</th>\n",
       "      <th>GO:0008150</th>\n",
       "      <th>GO:0110165</th>\n",
       "      <th>GO:0003674</th>\n",
       "      <th>GO:0005622</th>\n",
       "      <th>GO:0009987</th>\n",
       "      <th>GO:0043226</th>\n",
       "      <th>GO:0043229</th>\n",
       "      <th>GO:0005488</th>\n",
       "      <th>GO:0043227</th>\n",
       "      <th>...</th>\n",
       "      <th>GO:0008194</th>\n",
       "      <th>GO:0055001</th>\n",
       "      <th>GO:0032259</th>\n",
       "      <th>GO:0010506</th>\n",
       "      <th>GO:0048545</th>\n",
       "      <th>GO:0009570</th>\n",
       "      <th>GO:0045936</th>\n",
       "      <th>GO:0043254</th>\n",
       "      <th>GO:0010563</th>\n",
       "      <th>GO:0016835</th>\n",
       "    </tr>\n",
       "  </thead>\n",
       "  <tbody>\n",
       "    <tr>\n",
       "      <th>0</th>\n",
       "      <td>1.0</td>\n",
       "      <td>1.0</td>\n",
       "      <td>1.0</td>\n",
       "      <td>1.0</td>\n",
       "      <td>1.0</td>\n",
       "      <td>0.0</td>\n",
       "      <td>1.0</td>\n",
       "      <td>1.0</td>\n",
       "      <td>1.0</td>\n",
       "      <td>1.0</td>\n",
       "      <td>...</td>\n",
       "      <td>0.0</td>\n",
       "      <td>0.0</td>\n",
       "      <td>0.0</td>\n",
       "      <td>0.0</td>\n",
       "      <td>0.0</td>\n",
       "      <td>0.0</td>\n",
       "      <td>0.0</td>\n",
       "      <td>0.0</td>\n",
       "      <td>0.0</td>\n",
       "      <td>0.0</td>\n",
       "    </tr>\n",
       "    <tr>\n",
       "      <th>1</th>\n",
       "      <td>1.0</td>\n",
       "      <td>1.0</td>\n",
       "      <td>1.0</td>\n",
       "      <td>0.0</td>\n",
       "      <td>1.0</td>\n",
       "      <td>1.0</td>\n",
       "      <td>1.0</td>\n",
       "      <td>1.0</td>\n",
       "      <td>0.0</td>\n",
       "      <td>1.0</td>\n",
       "      <td>...</td>\n",
       "      <td>0.0</td>\n",
       "      <td>0.0</td>\n",
       "      <td>0.0</td>\n",
       "      <td>0.0</td>\n",
       "      <td>0.0</td>\n",
       "      <td>0.0</td>\n",
       "      <td>0.0</td>\n",
       "      <td>0.0</td>\n",
       "      <td>0.0</td>\n",
       "      <td>0.0</td>\n",
       "    </tr>\n",
       "    <tr>\n",
       "      <th>2</th>\n",
       "      <td>1.0</td>\n",
       "      <td>1.0</td>\n",
       "      <td>1.0</td>\n",
       "      <td>1.0</td>\n",
       "      <td>0.0</td>\n",
       "      <td>0.0</td>\n",
       "      <td>0.0</td>\n",
       "      <td>0.0</td>\n",
       "      <td>1.0</td>\n",
       "      <td>0.0</td>\n",
       "      <td>...</td>\n",
       "      <td>0.0</td>\n",
       "      <td>0.0</td>\n",
       "      <td>0.0</td>\n",
       "      <td>0.0</td>\n",
       "      <td>0.0</td>\n",
       "      <td>0.0</td>\n",
       "      <td>0.0</td>\n",
       "      <td>0.0</td>\n",
       "      <td>0.0</td>\n",
       "      <td>0.0</td>\n",
       "    </tr>\n",
       "    <tr>\n",
       "      <th>3</th>\n",
       "      <td>1.0</td>\n",
       "      <td>1.0</td>\n",
       "      <td>1.0</td>\n",
       "      <td>1.0</td>\n",
       "      <td>1.0</td>\n",
       "      <td>0.0</td>\n",
       "      <td>0.0</td>\n",
       "      <td>0.0</td>\n",
       "      <td>1.0</td>\n",
       "      <td>0.0</td>\n",
       "      <td>...</td>\n",
       "      <td>0.0</td>\n",
       "      <td>0.0</td>\n",
       "      <td>0.0</td>\n",
       "      <td>0.0</td>\n",
       "      <td>0.0</td>\n",
       "      <td>0.0</td>\n",
       "      <td>0.0</td>\n",
       "      <td>0.0</td>\n",
       "      <td>0.0</td>\n",
       "      <td>0.0</td>\n",
       "    </tr>\n",
       "    <tr>\n",
       "      <th>4</th>\n",
       "      <td>1.0</td>\n",
       "      <td>1.0</td>\n",
       "      <td>1.0</td>\n",
       "      <td>0.0</td>\n",
       "      <td>1.0</td>\n",
       "      <td>1.0</td>\n",
       "      <td>1.0</td>\n",
       "      <td>1.0</td>\n",
       "      <td>0.0</td>\n",
       "      <td>0.0</td>\n",
       "      <td>...</td>\n",
       "      <td>0.0</td>\n",
       "      <td>0.0</td>\n",
       "      <td>0.0</td>\n",
       "      <td>0.0</td>\n",
       "      <td>0.0</td>\n",
       "      <td>0.0</td>\n",
       "      <td>0.0</td>\n",
       "      <td>0.0</td>\n",
       "      <td>0.0</td>\n",
       "      <td>0.0</td>\n",
       "    </tr>\n",
       "    <tr>\n",
       "      <th>...</th>\n",
       "      <td>...</td>\n",
       "      <td>...</td>\n",
       "      <td>...</td>\n",
       "      <td>...</td>\n",
       "      <td>...</td>\n",
       "      <td>...</td>\n",
       "      <td>...</td>\n",
       "      <td>...</td>\n",
       "      <td>...</td>\n",
       "      <td>...</td>\n",
       "      <td>...</td>\n",
       "      <td>...</td>\n",
       "      <td>...</td>\n",
       "      <td>...</td>\n",
       "      <td>...</td>\n",
       "      <td>...</td>\n",
       "      <td>...</td>\n",
       "      <td>...</td>\n",
       "      <td>...</td>\n",
       "      <td>...</td>\n",
       "      <td>...</td>\n",
       "    </tr>\n",
       "    <tr>\n",
       "      <th>29995</th>\n",
       "      <td>0.0</td>\n",
       "      <td>1.0</td>\n",
       "      <td>0.0</td>\n",
       "      <td>0.0</td>\n",
       "      <td>0.0</td>\n",
       "      <td>1.0</td>\n",
       "      <td>0.0</td>\n",
       "      <td>0.0</td>\n",
       "      <td>0.0</td>\n",
       "      <td>0.0</td>\n",
       "      <td>...</td>\n",
       "      <td>0.0</td>\n",
       "      <td>0.0</td>\n",
       "      <td>0.0</td>\n",
       "      <td>0.0</td>\n",
       "      <td>0.0</td>\n",
       "      <td>0.0</td>\n",
       "      <td>0.0</td>\n",
       "      <td>0.0</td>\n",
       "      <td>0.0</td>\n",
       "      <td>0.0</td>\n",
       "    </tr>\n",
       "    <tr>\n",
       "      <th>29996</th>\n",
       "      <td>1.0</td>\n",
       "      <td>0.0</td>\n",
       "      <td>1.0</td>\n",
       "      <td>1.0</td>\n",
       "      <td>1.0</td>\n",
       "      <td>0.0</td>\n",
       "      <td>0.0</td>\n",
       "      <td>0.0</td>\n",
       "      <td>1.0</td>\n",
       "      <td>0.0</td>\n",
       "      <td>...</td>\n",
       "      <td>0.0</td>\n",
       "      <td>0.0</td>\n",
       "      <td>0.0</td>\n",
       "      <td>0.0</td>\n",
       "      <td>0.0</td>\n",
       "      <td>0.0</td>\n",
       "      <td>0.0</td>\n",
       "      <td>0.0</td>\n",
       "      <td>0.0</td>\n",
       "      <td>0.0</td>\n",
       "    </tr>\n",
       "    <tr>\n",
       "      <th>29997</th>\n",
       "      <td>0.0</td>\n",
       "      <td>1.0</td>\n",
       "      <td>0.0</td>\n",
       "      <td>0.0</td>\n",
       "      <td>0.0</td>\n",
       "      <td>0.0</td>\n",
       "      <td>0.0</td>\n",
       "      <td>0.0</td>\n",
       "      <td>0.0</td>\n",
       "      <td>0.0</td>\n",
       "      <td>...</td>\n",
       "      <td>0.0</td>\n",
       "      <td>0.0</td>\n",
       "      <td>0.0</td>\n",
       "      <td>0.0</td>\n",
       "      <td>0.0</td>\n",
       "      <td>0.0</td>\n",
       "      <td>0.0</td>\n",
       "      <td>0.0</td>\n",
       "      <td>0.0</td>\n",
       "      <td>0.0</td>\n",
       "    </tr>\n",
       "    <tr>\n",
       "      <th>29998</th>\n",
       "      <td>1.0</td>\n",
       "      <td>0.0</td>\n",
       "      <td>1.0</td>\n",
       "      <td>0.0</td>\n",
       "      <td>1.0</td>\n",
       "      <td>0.0</td>\n",
       "      <td>1.0</td>\n",
       "      <td>1.0</td>\n",
       "      <td>0.0</td>\n",
       "      <td>1.0</td>\n",
       "      <td>...</td>\n",
       "      <td>0.0</td>\n",
       "      <td>0.0</td>\n",
       "      <td>0.0</td>\n",
       "      <td>0.0</td>\n",
       "      <td>0.0</td>\n",
       "      <td>0.0</td>\n",
       "      <td>0.0</td>\n",
       "      <td>0.0</td>\n",
       "      <td>0.0</td>\n",
       "      <td>0.0</td>\n",
       "    </tr>\n",
       "    <tr>\n",
       "      <th>29999</th>\n",
       "      <td>1.0</td>\n",
       "      <td>0.0</td>\n",
       "      <td>1.0</td>\n",
       "      <td>1.0</td>\n",
       "      <td>0.0</td>\n",
       "      <td>0.0</td>\n",
       "      <td>0.0</td>\n",
       "      <td>0.0</td>\n",
       "      <td>1.0</td>\n",
       "      <td>0.0</td>\n",
       "      <td>...</td>\n",
       "      <td>0.0</td>\n",
       "      <td>0.0</td>\n",
       "      <td>0.0</td>\n",
       "      <td>0.0</td>\n",
       "      <td>0.0</td>\n",
       "      <td>0.0</td>\n",
       "      <td>0.0</td>\n",
       "      <td>0.0</td>\n",
       "      <td>0.0</td>\n",
       "      <td>0.0</td>\n",
       "    </tr>\n",
       "  </tbody>\n",
       "</table>\n",
       "<p>30000 rows × 1000 columns</p>\n",
       "</div>"
      ],
      "text/plain": [
       "       GO:0005575  GO:0008150  GO:0110165  GO:0003674  GO:0005622  GO:0009987  \\\n",
       "0             1.0         1.0         1.0         1.0         1.0         0.0   \n",
       "1             1.0         1.0         1.0         0.0         1.0         1.0   \n",
       "2             1.0         1.0         1.0         1.0         0.0         0.0   \n",
       "3             1.0         1.0         1.0         1.0         1.0         0.0   \n",
       "4             1.0         1.0         1.0         0.0         1.0         1.0   \n",
       "...           ...         ...         ...         ...         ...         ...   \n",
       "29995         0.0         1.0         0.0         0.0         0.0         1.0   \n",
       "29996         1.0         0.0         1.0         1.0         1.0         0.0   \n",
       "29997         0.0         1.0         0.0         0.0         0.0         0.0   \n",
       "29998         1.0         0.0         1.0         0.0         1.0         0.0   \n",
       "29999         1.0         0.0         1.0         1.0         0.0         0.0   \n",
       "\n",
       "       GO:0043226  GO:0043229  GO:0005488  GO:0043227  ...  GO:0008194  \\\n",
       "0             1.0         1.0         1.0         1.0  ...         0.0   \n",
       "1             1.0         1.0         0.0         1.0  ...         0.0   \n",
       "2             0.0         0.0         1.0         0.0  ...         0.0   \n",
       "3             0.0         0.0         1.0         0.0  ...         0.0   \n",
       "4             1.0         1.0         0.0         0.0  ...         0.0   \n",
       "...           ...         ...         ...         ...  ...         ...   \n",
       "29995         0.0         0.0         0.0         0.0  ...         0.0   \n",
       "29996         0.0         0.0         1.0         0.0  ...         0.0   \n",
       "29997         0.0         0.0         0.0         0.0  ...         0.0   \n",
       "29998         1.0         1.0         0.0         1.0  ...         0.0   \n",
       "29999         0.0         0.0         1.0         0.0  ...         0.0   \n",
       "\n",
       "       GO:0055001  GO:0032259  GO:0010506  GO:0048545  GO:0009570  GO:0045936  \\\n",
       "0             0.0         0.0         0.0         0.0         0.0         0.0   \n",
       "1             0.0         0.0         0.0         0.0         0.0         0.0   \n",
       "2             0.0         0.0         0.0         0.0         0.0         0.0   \n",
       "3             0.0         0.0         0.0         0.0         0.0         0.0   \n",
       "4             0.0         0.0         0.0         0.0         0.0         0.0   \n",
       "...           ...         ...         ...         ...         ...         ...   \n",
       "29995         0.0         0.0         0.0         0.0         0.0         0.0   \n",
       "29996         0.0         0.0         0.0         0.0         0.0         0.0   \n",
       "29997         0.0         0.0         0.0         0.0         0.0         0.0   \n",
       "29998         0.0         0.0         0.0         0.0         0.0         0.0   \n",
       "29999         0.0         0.0         0.0         0.0         0.0         0.0   \n",
       "\n",
       "       GO:0043254  GO:0010563  GO:0016835  \n",
       "0             0.0         0.0         0.0  \n",
       "1             0.0         0.0         0.0  \n",
       "2             0.0         0.0         0.0  \n",
       "3             0.0         0.0         0.0  \n",
       "4             0.0         0.0         0.0  \n",
       "...           ...         ...         ...  \n",
       "29995         0.0         0.0         0.0  \n",
       "29996         0.0         0.0         0.0  \n",
       "29997         0.0         0.0         0.0  \n",
       "29998         0.0         0.0         0.0  \n",
       "29999         0.0         0.0         0.0  \n",
       "\n",
       "[30000 rows x 1000 columns]"
      ]
     },
     "execution_count": 17,
     "metadata": {},
     "output_type": "execute_result"
    }
   ],
   "source": [
    "labels_df"
   ]
  },
  {
   "cell_type": "code",
   "execution_count": 18,
   "metadata": {
    "execution": {
     "iopub.execute_input": "2024-05-07T06:38:40.546336Z",
     "iopub.status.busy": "2024-05-07T06:38:40.545651Z",
     "iopub.status.idle": "2024-05-07T06:38:40.707274Z",
     "shell.execute_reply": "2024-05-07T06:38:40.706299Z",
     "shell.execute_reply.started": "2024-05-07T06:38:40.546299Z"
    },
    "id": "OizAUjUTdnFY",
    "trusted": true
   },
   "outputs": [],
   "source": [
    "import pandas as pd\n",
    "from sklearn.model_selection import train_test_split\n",
    "\n",
    "# Define the test size and random state for reproducibility\n",
    "test_size = 0.2  # Use 20% of the data for the test set\n",
    "random_state = 42  # Random seed for reproducibility\n",
    "\n",
    "# Split the feature and label datasets into training and testing sets\n",
    "X_train, X_test, y_train, y_test = train_test_split(\n",
    "    train_df, labels_df, test_size=test_size, random_state=random_state\n",
    ")"
   ]
  },
  {
   "cell_type": "code",
   "execution_count": 19,
   "metadata": {
    "execution": {
     "iopub.execute_input": "2024-05-07T06:39:37.528116Z",
     "iopub.status.busy": "2024-05-07T06:39:37.527718Z",
     "iopub.status.idle": "2024-05-07T06:39:37.534501Z",
     "shell.execute_reply": "2024-05-07T06:39:37.533158Z",
     "shell.execute_reply.started": "2024-05-07T06:39:37.528085Z"
    },
    "id": "rc-rWvM5dnFY",
    "trusted": true
   },
   "outputs": [
    {
     "name": "stdout",
     "output_type": "stream",
     "text": [
      "(24000, 1024)\n",
      "(6000, 1024)\n",
      "(24000, 1000)\n",
      "(6000, 1000)\n"
     ]
    }
   ],
   "source": [
    "print(X_train.shape)\n",
    "print(X_test.shape)\n",
    "print(y_train.shape)\n",
    "print(y_test.shape)"
   ]
  },
  {
   "cell_type": "markdown",
   "metadata": {
    "id": "AJW4qxQ1dnFY",
    "papermill": {
     "duration": 0.010523,
     "end_time": "2023-05-09T08:38:52.052433",
     "exception": false,
     "start_time": "2023-05-09T08:38:52.04191",
     "status": "completed"
    },
    "tags": []
   },
   "source": [
    "# Training"
   ]
  },
  {
   "cell_type": "code",
   "execution_count": 20,
   "metadata": {
    "execution": {
     "iopub.execute_input": "2024-05-06T23:15:51.476771Z",
     "iopub.status.busy": "2024-05-06T23:15:51.47627Z",
     "iopub.status.idle": "2024-05-06T23:18:20.8737Z",
     "shell.execute_reply": "2024-05-06T23:18:20.872104Z",
     "shell.execute_reply.started": "2024-05-06T23:15:51.47673Z"
    },
    "id": "nfahLMZDdnFY",
    "papermill": {
     "duration": 128.96621,
     "end_time": "2023-05-09T08:41:01.029422",
     "exception": false,
     "start_time": "2023-05-09T08:38:52.063212",
     "status": "completed"
    },
    "tags": [],
    "trusted": true
   },
   "outputs": [
    {
     "name": "stderr",
     "output_type": "stream",
     "text": [
      "c:\\Satya\\myenv\\lib\\site-packages\\keras\\src\\layers\\normalization\\batch_normalization.py:142: UserWarning: Do not pass an `input_shape`/`input_dim` argument to a layer. When using Sequential models, prefer using an `Input(shape)` object as the first layer in the model instead.\n",
      "  super().__init__(**kwargs)\n"
     ]
    },
    {
     "name": "stdout",
     "output_type": "stream",
     "text": [
      "Epoch 1/5\n",
      "\u001b[1m5/5\u001b[0m \u001b[32m━━━━━━━━━━━━━━━━━━━━\u001b[0m\u001b[37m\u001b[0m \u001b[1m2s\u001b[0m 187ms/step - auc: 0.5198 - binary_accuracy: 0.6519 - loss: 0.6326\n",
      "Epoch 2/5\n",
      "\u001b[1m5/5\u001b[0m \u001b[32m━━━━━━━━━━━━━━━━━━━━\u001b[0m\u001b[37m\u001b[0m \u001b[1m1s\u001b[0m 126ms/step - auc: 0.6094 - binary_accuracy: 0.9652 - loss: 0.1883\n",
      "Epoch 3/5\n",
      "\u001b[1m5/5\u001b[0m \u001b[32m━━━━━━━━━━━━━━━━━━━━\u001b[0m\u001b[37m\u001b[0m \u001b[1m0s\u001b[0m 87ms/step - auc: 0.6994 - binary_accuracy: 0.9702 - loss: 0.1774\n",
      "Epoch 4/5\n",
      "\u001b[1m5/5\u001b[0m \u001b[32m━━━━━━━━━━━━━━━━━━━━\u001b[0m\u001b[37m\u001b[0m \u001b[1m1s\u001b[0m 98ms/step - auc: 0.7990 - binary_accuracy: 0.9694 - loss: 0.1262\n",
      "Epoch 5/5\n",
      "\u001b[1m5/5\u001b[0m \u001b[32m━━━━━━━━━━━━━━━━━━━━\u001b[0m\u001b[37m\u001b[0m \u001b[1m1s\u001b[0m 107ms/step - auc: 0.8248 - binary_accuracy: 0.9717 - loss: 0.1173\n"
     ]
    }
   ],
   "source": [
    "import tensorflow as tf\n",
    "from tensorflow import keras\n",
    "from tensorflow.keras import layers\n",
    "\n",
    "INPUT_SHAPE = [X_train.shape[1]]\n",
    "BATCH_SIZE = 5120\n",
    "\n",
    "model = tf.keras.Sequential([\n",
    "    tf.keras.layers.BatchNormalization(input_shape=INPUT_SHAPE),\n",
    "    tf.keras.layers.Dense(units=512, activation='relu'),\n",
    "    tf.keras.layers.Dense(units=512, activation='relu'),\n",
    "    tf.keras.layers.Dense(units=512, activation='relu'),\n",
    "    tf.keras.layers.Dense(units=num_of_labels,activation='sigmoid')\n",
    "])\n",
    "\n",
    "\n",
    "# Compile model\n",
    "model.compile(\n",
    "    optimizer=tf.keras.optimizers.Adam(learning_rate=0.001),\n",
    "    loss='binary_crossentropy',\n",
    "    metrics=['binary_accuracy', tf.keras.metrics.AUC()],\n",
    ")\n",
    "\n",
    "history = model.fit(\n",
    "    X_train, y_train,\n",
    "    batch_size=BATCH_SIZE,\n",
    "    epochs=5\n",
    ")\n"
   ]
  },
  {
   "cell_type": "code",
   "execution_count": 21,
   "metadata": {
    "execution": {
     "iopub.execute_input": "2024-05-07T06:40:18.068543Z",
     "iopub.status.busy": "2024-05-07T06:40:18.068064Z",
     "iopub.status.idle": "2024-05-07T06:41:00.785194Z",
     "shell.execute_reply": "2024-05-07T06:41:00.78383Z",
     "shell.execute_reply.started": "2024-05-07T06:40:18.068498Z"
    },
    "id": "3LulRGb_dnFY",
    "trusted": true
   },
   "outputs": [
    {
     "name": "stdout",
     "output_type": "stream",
     "text": [
      "Epoch 1/10\n"
     ]
    },
    {
     "name": "stderr",
     "output_type": "stream",
     "text": [
      "c:\\Satya\\myenv\\lib\\site-packages\\keras\\src\\layers\\normalization\\batch_normalization.py:142: UserWarning: Do not pass an `input_shape`/`input_dim` argument to a layer. When using Sequential models, prefer using an `Input(shape)` object as the first layer in the model instead.\n",
      "  super().__init__(**kwargs)\n"
     ]
    },
    {
     "name": "stdout",
     "output_type": "stream",
     "text": [
      "\u001b[1m5/5\u001b[0m \u001b[32m━━━━━━━━━━━━━━━━━━━━\u001b[0m\u001b[37m\u001b[0m \u001b[1m2s\u001b[0m 165ms/step - auc_1: 0.5524 - binary_accuracy: 0.6579 - loss: 0.6297\n",
      "Epoch 2/10\n",
      "\u001b[1m5/5\u001b[0m \u001b[32m━━━━━━━━━━━━━━━━━━━━\u001b[0m\u001b[37m\u001b[0m \u001b[1m1s\u001b[0m 115ms/step - auc_1: 0.6300 - binary_accuracy: 0.9663 - loss: 0.1801\n",
      "Epoch 3/10\n",
      "\u001b[1m5/5\u001b[0m \u001b[32m━━━━━━━━━━━━━━━━━━━━\u001b[0m\u001b[37m\u001b[0m \u001b[1m0s\u001b[0m 87ms/step - auc_1: 0.7073 - binary_accuracy: 0.9699 - loss: 0.1774\n",
      "Epoch 4/10\n",
      "\u001b[1m5/5\u001b[0m \u001b[32m━━━━━━━━━━━━━━━━━━━━\u001b[0m\u001b[37m\u001b[0m \u001b[1m1s\u001b[0m 103ms/step - auc_1: 0.7996 - binary_accuracy: 0.9694 - loss: 0.1275\n",
      "Epoch 5/10\n",
      "\u001b[1m5/5\u001b[0m \u001b[32m━━━━━━━━━━━━━━━━━━━━\u001b[0m\u001b[37m\u001b[0m \u001b[1m1s\u001b[0m 109ms/step - auc_1: 0.8238 - binary_accuracy: 0.9720 - loss: 0.1173\n",
      "Epoch 6/10\n",
      "\u001b[1m5/5\u001b[0m \u001b[32m━━━━━━━━━━━━━━━━━━━━\u001b[0m\u001b[37m\u001b[0m \u001b[1m1s\u001b[0m 103ms/step - auc_1: 0.8118 - binary_accuracy: 0.9721 - loss: 0.1071\n",
      "Epoch 7/10\n",
      "\u001b[1m5/5\u001b[0m \u001b[32m━━━━━━━━━━━━━━━━━━━━\u001b[0m\u001b[37m\u001b[0m \u001b[1m1s\u001b[0m 99ms/step - auc_1: 0.8147 - binary_accuracy: 0.9718 - loss: 0.1070\n",
      "Epoch 8/10\n",
      "\u001b[1m5/5\u001b[0m \u001b[32m━━━━━━━━━━━━━━━━━━━━\u001b[0m\u001b[37m\u001b[0m \u001b[1m1s\u001b[0m 109ms/step - auc_1: 0.8275 - binary_accuracy: 0.9719 - loss: 0.1036\n",
      "Epoch 9/10\n",
      "\u001b[1m5/5\u001b[0m \u001b[32m━━━━━━━━━━━━━━━━━━━━\u001b[0m\u001b[37m\u001b[0m \u001b[1m1s\u001b[0m 96ms/step - auc_1: 0.8335 - binary_accuracy: 0.9722 - loss: 0.1013\n",
      "Epoch 10/10\n",
      "\u001b[1m5/5\u001b[0m \u001b[32m━━━━━━━━━━━━━━━━━━━━\u001b[0m\u001b[37m\u001b[0m \u001b[1m1s\u001b[0m 94ms/step - auc_1: 0.8403 - binary_accuracy: 0.9721 - loss: 0.1006\n"
     ]
    }
   ],
   "source": [
    "import tensorflow as tf\n",
    "from tensorflow import keras\n",
    "from tensorflow.keras import layers\n",
    "\n",
    "INPUT_SHAPE = [X_train.shape[1]]\n",
    "BATCH_SIZE = 5120\n",
    "\n",
    "model = tf.keras.Sequential([\n",
    "    tf.keras.layers.BatchNormalization(input_shape=INPUT_SHAPE),\n",
    "    tf.keras.layers.Dense(units=512, activation='relu'),\n",
    "    tf.keras.layers.Dense(units=512, activation='relu'),\n",
    "    tf.keras.layers.Dense(units=512, activation='relu'),\n",
    "    tf.keras.layers.Dense(units=num_of_labels,activation='sigmoid')\n",
    "])\n",
    "\n",
    "\n",
    "# Compile model\n",
    "model.compile(\n",
    "    optimizer=tf.keras.optimizers.Adam(learning_rate=0.001),\n",
    "    loss='binary_crossentropy',\n",
    "    metrics=['binary_accuracy', tf.keras.metrics.AUC()],\n",
    ")\n",
    "\n",
    "history = model.fit(\n",
    "    X_train, y_train,\n",
    "    batch_size=BATCH_SIZE,\n",
    "    epochs=10\n",
    ")\n"
   ]
  },
  {
   "cell_type": "code",
   "execution_count": 22,
   "metadata": {
    "execution": {
     "iopub.execute_input": "2024-05-07T06:41:10.515661Z",
     "iopub.status.busy": "2024-05-07T06:41:10.515107Z",
     "iopub.status.idle": "2024-05-07T06:48:35.536784Z",
     "shell.execute_reply": "2024-05-07T06:48:35.535072Z",
     "shell.execute_reply.started": "2024-05-07T06:41:10.515607Z"
    },
    "id": "u7jaqtqLdnFZ",
    "trusted": true
   },
   "outputs": [
    {
     "name": "stderr",
     "output_type": "stream",
     "text": [
      "c:\\Satya\\myenv\\lib\\site-packages\\keras\\src\\layers\\reshaping\\reshape.py:39: UserWarning: Do not pass an `input_shape`/`input_dim` argument to a layer. When using Sequential models, prefer using an `Input(shape)` object as the first layer in the model instead.\n",
      "  super().__init__(**kwargs)\n"
     ]
    },
    {
     "name": "stdout",
     "output_type": "stream",
     "text": [
      "Epoch 1/10\n",
      "\u001b[1m5/5\u001b[0m \u001b[32m━━━━━━━━━━━━━━━━━━━━\u001b[0m\u001b[37m\u001b[0m \u001b[1m20s\u001b[0m 3s/step - auc_2: 0.5004 - binary_accuracy: 0.7438 - loss: 0.6925\n",
      "Epoch 2/10\n",
      "\u001b[1m5/5\u001b[0m \u001b[32m━━━━━━━━━━━━━━━━━━━━\u001b[0m\u001b[37m\u001b[0m \u001b[1m17s\u001b[0m 3s/step - auc_2: 0.5526 - binary_accuracy: 0.9492 - loss: 0.6884\n",
      "Epoch 3/10\n",
      "\u001b[1m5/5\u001b[0m \u001b[32m━━━━━━━━━━━━━━━━━━━━\u001b[0m\u001b[37m\u001b[0m \u001b[1m17s\u001b[0m 3s/step - auc_2: 0.5893 - binary_accuracy: 0.9606 - loss: 0.6755\n",
      "Epoch 4/10\n",
      "\u001b[1m5/5\u001b[0m \u001b[32m━━━━━━━━━━━━━━━━━━━━\u001b[0m\u001b[37m\u001b[0m \u001b[1m17s\u001b[0m 3s/step - auc_2: 0.5899 - binary_accuracy: 0.9706 - loss: 0.5806\n",
      "Epoch 5/10\n",
      "\u001b[1m5/5\u001b[0m \u001b[32m━━━━━━━━━━━━━━━━━━━━\u001b[0m\u001b[37m\u001b[0m \u001b[1m16s\u001b[0m 3s/step - auc_2: 0.6160 - binary_accuracy: 0.9717 - loss: 0.3080\n",
      "Epoch 6/10\n",
      "\u001b[1m5/5\u001b[0m \u001b[32m━━━━━━━━━━━━━━━━━━━━\u001b[0m\u001b[37m\u001b[0m \u001b[1m16s\u001b[0m 3s/step - auc_2: 0.6574 - binary_accuracy: 0.9718 - loss: 0.1435\n",
      "Epoch 7/10\n",
      "\u001b[1m5/5\u001b[0m \u001b[32m━━━━━━━━━━━━━━━━━━━━\u001b[0m\u001b[37m\u001b[0m \u001b[1m16s\u001b[0m 3s/step - auc_2: 0.7241 - binary_accuracy: 0.9718 - loss: 0.1143\n",
      "Epoch 8/10\n",
      "\u001b[1m5/5\u001b[0m \u001b[32m━━━━━━━━━━━━━━━━━━━━\u001b[0m\u001b[37m\u001b[0m \u001b[1m16s\u001b[0m 3s/step - auc_2: 0.7645 - binary_accuracy: 0.9718 - loss: 0.1197\n",
      "Epoch 9/10\n",
      "\u001b[1m5/5\u001b[0m \u001b[32m━━━━━━━━━━━━━━━━━━━━\u001b[0m\u001b[37m\u001b[0m \u001b[1m16s\u001b[0m 3s/step - auc_2: 0.7767 - binary_accuracy: 0.9719 - loss: 0.1181\n",
      "Epoch 10/10\n",
      "\u001b[1m5/5\u001b[0m \u001b[32m━━━━━━━━━━━━━━━━━━━━\u001b[0m\u001b[37m\u001b[0m \u001b[1m16s\u001b[0m 3s/step - auc_2: 0.7937 - binary_accuracy: 0.9719 - loss: 0.1131\n"
     ]
    }
   ],
   "source": [
    "# RNN-based architecture with LSTM\n",
    "model_rnn = tf.keras.Sequential([\n",
    "    layers.Reshape((INPUT_SHAPE[0], 1), input_shape=INPUT_SHAPE),  # Reshape for RNN\n",
    "    layers.LSTM(64),\n",
    "    layers.Dense(256, activation='relu'),\n",
    "    layers.Dense(num_of_labels, activation='sigmoid')\n",
    "])\n",
    "\n",
    "# Compile the model\n",
    "model_rnn.compile(\n",
    "    optimizer=tf.keras.optimizers.Adam(learning_rate=0.001),\n",
    "    loss='binary_crossentropy',\n",
    "    metrics=['binary_accuracy', tf.keras.metrics.AUC()]\n",
    ")\n",
    "\n",
    "# Train the model\n",
    "history_rnn = model_rnn.fit(\n",
    "    X_train, y_train,\n",
    "    batch_size=BATCH_SIZE,\n",
    "    epochs=10\n",
    ")\n"
   ]
  },
  {
   "cell_type": "code",
   "execution_count": 23,
   "metadata": {
    "execution": {
     "iopub.execute_input": "2024-05-07T07:07:21.733699Z",
     "iopub.status.busy": "2024-05-07T07:07:21.733125Z",
     "iopub.status.idle": "2024-05-07T07:07:41.288217Z",
     "shell.execute_reply": "2024-05-07T07:07:41.287089Z",
     "shell.execute_reply.started": "2024-05-07T07:07:21.733658Z"
    },
    "id": "SAM8-818dnFZ",
    "trusted": true
   },
   "outputs": [
    {
     "name": "stdout",
     "output_type": "stream",
     "text": [
      "\u001b[1m188/188\u001b[0m \u001b[32m━━━━━━━━━━━━━━━━━━━━\u001b[0m\u001b[37m\u001b[0m \u001b[1m1s\u001b[0m 2ms/step\n",
      "\u001b[1m188/188\u001b[0m \u001b[32m━━━━━━━━━━━━━━━━━━━━\u001b[0m\u001b[37m\u001b[0m \u001b[1m14s\u001b[0m 75ms/step\n"
     ]
    }
   ],
   "source": [
    "import pandas as pd\n",
    "import numpy as np\n",
    "import matplotlib.pyplot as plt\n",
    "import seaborn as sns\n",
    "from sklearn.metrics import (\n",
    "    accuracy_score, precision_recall_fscore_support, roc_auc_score,\n",
    "    precision_recall_curve, auc, roc_curve, hamming_loss\n",
    ")\n",
    "\n",
    "# Predictions for each model on the test set\n",
    "predictions = model.predict(X_test)  # Dense model\n",
    "# predictions_cnn = model_cnn.predict(X_test)  # CNN model\n",
    "predictions_rnn = model_rnn.predict(X_test)  # RNN model\n",
    "\n",
    "# Threshold for converting probabilities to binary\n",
    "threshold = 0.5\n",
    "binary_predictions = (predictions >= threshold).astype(int)\n",
    "# binary_predictions_cnn = (predictions_cnn >= threshold).astype(int)\n",
    "binary_predictions_rnn = (predictions_rnn >= threshold).astype(int)\n",
    "\n",
    "# True labels from the test set\n",
    "true_labels = y_test.to_numpy()\n",
    "\n",
    "# Hamming Score for each model (1 - Hamming Loss)\n",
    "hamming_score = 1 - hamming_loss(true_labels, binary_predictions)\n",
    "# hamming_score_cnn = 1 - hamming_loss(true_labels, binary_predictions_cnn)\n",
    "hamming_score_rnn = 1 - hamming_loss(true_labels, binary_predictions_rnn)\n"
   ]
  },
  {
   "cell_type": "code",
   "execution_count": 24,
   "metadata": {
    "execution": {
     "iopub.execute_input": "2024-05-07T07:14:40.527968Z",
     "iopub.status.busy": "2024-05-07T07:14:40.527501Z",
     "iopub.status.idle": "2024-05-07T07:18:04.08842Z",
     "shell.execute_reply": "2024-05-07T07:18:04.087139Z",
     "shell.execute_reply.started": "2024-05-07T07:14:40.52793Z"
    },
    "id": "GNznk8rmdnFZ",
    "trusted": true
   },
   "outputs": [
    {
     "name": "stderr",
     "output_type": "stream",
     "text": [
      "c:\\Satya\\myenv\\lib\\site-packages\\keras\\src\\layers\\reshaping\\reshape.py:39: UserWarning: Do not pass an `input_shape`/`input_dim` argument to a layer. When using Sequential models, prefer using an `Input(shape)` object as the first layer in the model instead.\n",
      "  super().__init__(**kwargs)\n"
     ]
    },
    {
     "name": "stdout",
     "output_type": "stream",
     "text": [
      "Epoch 1/10\n",
      "\u001b[1m5/5\u001b[0m \u001b[32m━━━━━━━━━━━━━━━━━━━━\u001b[0m\u001b[37m\u001b[0m \u001b[1m3s\u001b[0m 333ms/step - auc_3: 0.5571 - binary_accuracy: 0.6247 - loss: 0.6840\n",
      "Epoch 2/10\n",
      "\u001b[1m5/5\u001b[0m \u001b[32m━━━━━━━━━━━━━━━━━━━━\u001b[0m\u001b[37m\u001b[0m \u001b[1m2s\u001b[0m 363ms/step - auc_3: 0.5899 - binary_accuracy: 0.8882 - loss: 0.4914\n",
      "Epoch 3/10\n",
      "\u001b[1m5/5\u001b[0m \u001b[32m━━━━━━━━━━━━━━━━━━━━\u001b[0m\u001b[37m\u001b[0m \u001b[1m2s\u001b[0m 323ms/step - auc_3: 0.6314 - binary_accuracy: 0.9649 - loss: 0.1618\n",
      "Epoch 4/10\n",
      "\u001b[1m5/5\u001b[0m \u001b[32m━━━━━━━━━━━━━━━━━━━━\u001b[0m\u001b[37m\u001b[0m \u001b[1m2s\u001b[0m 317ms/step - auc_3: 0.6863 - binary_accuracy: 0.9706 - loss: 0.1714\n",
      "Epoch 5/10\n",
      "\u001b[1m5/5\u001b[0m \u001b[32m━━━━━━━━━━━━━━━━━━━━\u001b[0m\u001b[37m\u001b[0m \u001b[1m2s\u001b[0m 326ms/step - auc_3: 0.7471 - binary_accuracy: 0.9706 - loss: 0.1495\n",
      "Epoch 6/10\n",
      "\u001b[1m5/5\u001b[0m \u001b[32m━━━━━━━━━━━━━━━━━━━━\u001b[0m\u001b[37m\u001b[0m \u001b[1m2s\u001b[0m 324ms/step - auc_3: 0.7962 - binary_accuracy: 0.9717 - loss: 0.1209\n",
      "Epoch 7/10\n",
      "\u001b[1m5/5\u001b[0m \u001b[32m━━━━━━━━━━━━━━━━━━━━\u001b[0m\u001b[37m\u001b[0m \u001b[1m2s\u001b[0m 330ms/step - auc_3: 0.8082 - binary_accuracy: 0.9717 - loss: 0.1144\n",
      "Epoch 8/10\n",
      "\u001b[1m5/5\u001b[0m \u001b[32m━━━━━━━━━━━━━━━━━━━━\u001b[0m\u001b[37m\u001b[0m \u001b[1m2s\u001b[0m 324ms/step - auc_3: 0.8057 - binary_accuracy: 0.9717 - loss: 0.1094\n",
      "Epoch 9/10\n",
      "\u001b[1m5/5\u001b[0m \u001b[32m━━━━━━━━━━━━━━━━━━━━\u001b[0m\u001b[37m\u001b[0m \u001b[1m2s\u001b[0m 326ms/step - auc_3: 0.8023 - binary_accuracy: 0.9718 - loss: 0.1071\n",
      "Epoch 10/10\n",
      "\u001b[1m5/5\u001b[0m \u001b[32m━━━━━━━━━━━━━━━━━━━━\u001b[0m\u001b[37m\u001b[0m \u001b[1m2s\u001b[0m 325ms/step - auc_3: 0.8001 - binary_accuracy: 0.9718 - loss: 0.1075\n"
     ]
    }
   ],
   "source": [
    "# CNN-based architecture\n",
    "model_cnn = tf.keras.Sequential([\n",
    "    layers.Reshape((INPUT_SHAPE[0], 1), input_shape=INPUT_SHAPE),  # Reshape for convolution\n",
    "    layers.Conv1D(32, kernel_size=3, activation='relu'),\n",
    "    layers.MaxPooling1D(pool_size=2),\n",
    "    layers.Conv1D(64, kernel_size=3, activation='relu'),\n",
    "    layers.MaxPooling1D(pool_size=2),\n",
    "    layers.Flatten(),  # Flatten before Dense layers\n",
    "    layers.Dense(256, activation='relu'),\n",
    "    layers.Dense(num_of_labels, activation='sigmoid')\n",
    "])\n",
    "\n",
    "# Compile the model\n",
    "model_cnn.compile(\n",
    "    optimizer=tf.keras.optimizers.Adam(learning_rate=0.001),\n",
    "    loss='binary_crossentropy',\n",
    "    metrics=['binary_accuracy', tf.keras.metrics.AUC()]\n",
    ")\n",
    "\n",
    "# Train the model\n",
    "history_cnn = model_cnn.fit(\n",
    "    X_train, y_train,\n",
    "    batch_size=BATCH_SIZE,\n",
    "    epochs=10\n",
    ")\n"
   ]
  },
  {
   "cell_type": "code",
   "execution_count": null,
   "metadata": {
    "execution": {
     "iopub.execute_input": "2024-05-07T07:19:15.42881Z",
     "iopub.status.busy": "2024-05-07T07:19:15.426352Z",
     "iopub.status.idle": "2024-05-07T07:20:04.399903Z",
     "shell.execute_reply": "2024-05-07T07:20:04.398749Z",
     "shell.execute_reply.started": "2024-05-07T07:19:15.428746Z"
    },
    "id": "5wMu2J3KdnFZ",
    "trusted": true
   },
   "outputs": [
    {
     "name": "stdout",
     "output_type": "stream",
     "text": [
      "\u001b[1m188/188\u001b[0m \u001b[32m━━━━━━━━━━━━━━━━━━━━\u001b[0m\u001b[37m\u001b[0m \u001b[1m0s\u001b[0m 2ms/step\n",
      "\u001b[1m188/188\u001b[0m \u001b[32m━━━━━━━━━━━━━━━━━━━━\u001b[0m\u001b[37m\u001b[0m \u001b[1m1s\u001b[0m 3ms/step\n",
      "\u001b[1m188/188\u001b[0m \u001b[32m━━━━━━━━━━━━━━━━━━━━\u001b[0m\u001b[37m\u001b[0m \u001b[1m13s\u001b[0m 71ms/step\n"
     ]
    },
    {
     "name": "stderr",
     "output_type": "stream",
     "text": [
      "c:\\Satya\\myenv\\lib\\site-packages\\sklearn\\metrics\\_classification.py:1531: UndefinedMetricWarning: Precision is ill-defined and being set to 0.0 in labels with no predicted samples. Use `zero_division` parameter to control this behavior.\n",
      "  _warn_prf(average, modifier, f\"{metric.capitalize()} is\", len(result))\n",
      "c:\\Satya\\myenv\\lib\\site-packages\\sklearn\\metrics\\_classification.py:1531: UndefinedMetricWarning: Precision is ill-defined and being set to 0.0 in labels with no predicted samples. Use `zero_division` parameter to control this behavior.\n",
      "  _warn_prf(average, modifier, f\"{metric.capitalize()} is\", len(result))\n",
      "c:\\Satya\\myenv\\lib\\site-packages\\sklearn\\metrics\\_classification.py:1531: UndefinedMetricWarning: Precision is ill-defined and being set to 0.0 in labels with no predicted samples. Use `zero_division` parameter to control this behavior.\n",
      "  _warn_prf(average, modifier, f\"{metric.capitalize()} is\", len(result))\n"
     ]
    },
    {
     "data": {
      "image/png": "[encoded data removed]",
      "text/plain": [
       "<Figure size 1200x600 with 1 Axes>"
      ]
     },
     "metadata": {},
     "output_type": "display_data"
    },
    {
     "data": {
      "image/png": "[encoded data removed]",
      "text/plain": [
       "<Figure size 1200x600 with 1 Axes>"
      ]
     },
     "metadata": {},
     "output_type": "display_data"
    },
    {
     "data": {
      "image/png": "[encoded data removed]",
      "text/plain": [
       "<Figure size 1200x600 with 1 Axes>"
      ]
     },
     "metadata": {},
     "output_type": "display_data"
    },
    {
     "data": {
      "image/png": "[encoded data removed]",
      "text/plain": [
       "<Figure size 1200x600 with 1 Axes>"
      ]
     },
     "metadata": {},
     "output_type": "display_data"
    },
    {
     "data": {
      "image/png": "[encoded data removed]",
      "text/plain": [
       "<Figure size 1200x600 with 1 Axes>"
      ]
     },
     "metadata": {},
     "output_type": "display_data"
    },
    {
     "data": {
      "image/png": "[encoded data removed]",
      "text/plain": [
       "<Figure size 1200x600 with 1 Axes>"
      ]
     },
     "metadata": {},
     "output_type": "display_data"
    },
    {
     "data": {
      "image/png": "[encoded data removed]",
      "text/plain": [
       "<Figure size 1200x600 with 1 Axes>"
      ]
     },
     "metadata": {},
     "output_type": "display_data"
    }
   ],
   "source": [
    "import pandas as pd\n",
    "import numpy as np\n",
    "import matplotlib.pyplot as plt\n",
    "import seaborn as sns\n",
    "from sklearn.metrics import (\n",
    "    accuracy_score, precision_recall_fscore_support, roc_auc_score,\n",
    "    precision_recall_curve, auc, roc_curve, hamming_loss\n",
    ")\n",
    "\n",
    "# Predictions for each model on the test set\n",
    "predictions = model.predict(X_test)  # Dense model\n",
    "predictions_cnn = model_cnn.predict(X_test)  # CNN model\n",
    "predictions_rnn = model_rnn.predict(X_test)  # RNN model\n",
    "\n",
    "# Threshold for converting probabilities to binary\n",
    "threshold = 0.5\n",
    "binary_predictions = (predictions >= threshold).astype(int)\n",
    "binary_predictions_cnn = (predictions_cnn >= threshold).astype(int)\n",
    "binary_predictions_rnn = (predictions_rnn >= threshold).astype(int)\n",
    "\n",
    "# True labels from the test set\n",
    "true_labels = y_test.to_numpy()\n",
    "\n",
    "# Calculate Hamming Score for each model\n",
    "hamming_score = 1 - hamming_loss(true_labels, binary_predictions)\n",
    "hamming_score_cnn = 1 - hamming_loss(true_labels, binary_predictions_cnn)\n",
    "hamming_score_rnn = 1 - hamming_loss(true_labels, binary_predictions_rnn)\n",
    "\n",
    "# List to store metrics for the three models\n",
    "metrics_list = []\n",
    "\n",
    "# Iterate over the models and compute metrics\n",
    "for model_name, pred, bin_pred, hamming in zip(\n",
    "    ['Model (Dense)', 'Model CNN', 'Model RNN'],\n",
    "    [predictions, predictions_cnn, predictions_rnn],\n",
    "    [binary_predictions, binary_predictions_cnn, binary_predictions_rnn],\n",
    "    [hamming_score, hamming_score_cnn, hamming_score_rnn]\n",
    "):\n",
    "    accuracy = accuracy_score(true_labels.flatten(), bin_pred.flatten())\n",
    "    precision, recall, f1_score, _ = precision_recall_fscore_support(\n",
    "        true_labels, bin_pred, average='macro'\n",
    "    )\n",
    "    roc_auc = roc_auc_score(true_labels, pred, average='macro')\n",
    "\n",
    "    precision_curve, recall_curve, _ = precision_recall_curve(true_labels.ravel(), pred.ravel())\n",
    "    pr_auc = auc(recall_curve, precision_curve)\n",
    "\n",
    "    # Append metrics to the list\n",
    "    metrics_list.append({\n",
    "        'Model': model_name,\n",
    "        'Accuracy': accuracy,\n",
    "        'Precision': precision,\n",
    "        'Recall': recall,\n",
    "        'F1-Score': f1_score,\n",
    "        'ROC AUC': roc_auc,\n",
    "        'PR AUC': pr_auc,\n",
    "        'Hamming Score': hamming\n",
    "    })\n",
    "\n",
    "# Convert the list to a DataFrame\n",
    "metrics_df = pd.DataFrame(metrics_list)\n",
    "\n",
    "import matplotlib.pyplot as plt\n",
    "import seaborn as sns\n",
    "from sklearn.metrics import roc_curve, precision_recall_curve\n",
    "\n",
    "# Save Hamming Score Comparison plot\n",
    "plt.figure(figsize=(12, 6))\n",
    "sns.barplot(x='Model', y='Hamming Score', data=metrics_df)\n",
    "plt.title('Hamming Score Comparison')\n",
    "plt.savefig('output/hamming_score_comparison.png')  # Save the plot as a PNG file\n",
    "plt.show()\n",
    "\n",
    "# Save Accuracy Comparison plot\n",
    "plt.figure(figsize=(12, 6))\n",
    "sns.barplot(x='Model', y='Accuracy', data=metrics_df)\n",
    "plt.title('Accuracy Comparison')\n",
    "plt.savefig('output/accuracy_comparison.png')  # Save the plot as a PNG file\n",
    "plt.show()\n",
    "\n",
    "# Save F1-Score Comparison plot\n",
    "plt.figure(figsize=(12, 6))\n",
    "sns.barplot(x='Model', y='F1-Score', data=metrics_df)\n",
    "plt.title('F1-Score Comparison')\n",
    "plt.savefig('output/f1_score_comparison.png')  # Save the plot as a PNG file\n",
    "plt.show()\n",
    "\n",
    "# Save ROC AUC Comparison plot\n",
    "plt.figure(figsize=(12, 6))\n",
    "sns.barplot(x='Model', y='ROC AUC', data=metrics_df)\n",
    "plt.title('ROC AUC Comparison')\n",
    "plt.savefig('output/roc_auc_comparison.png')  # Save the plot as a PNG file\n",
    "plt.show()\n",
    "\n",
    "# Save PR AUC Comparison plot\n",
    "plt.figure(figsize=(12, 6))\n",
    "sns.barplot(x='Model', y='PR AUC', data=metrics_df)\n",
    "plt.title('PR AUC Comparison')\n",
    "plt.savefig('output/pr_auc_comparison.png')  # Save the plot as a PNG file\n",
    "plt.show()\n",
    "\n",
    "# Save ROC Curve Comparison for all three models\n",
    "fpr, tpr, _ = roc_curve(true_labels.ravel(), predictions.ravel())\n",
    "fpr_cnn, tpr_cnn, _ = roc_curve(true_labels.ravel(), predictions_cnn.ravel())\n",
    "fpr_rnn, tpr_rnn, _ = roc_curve(true_labels.ravel(), predictions_rnn.ravel())\n",
    "\n",
    "plt.figure(figsize=(12, 6))\n",
    "plt.plot([0, 1], [0, 1], 'k--')  # Diagonal reference line\n",
    "plt.plot(fpr, tpr, label='Model (Dense) ROC')\n",
    "plt.plot(fpr_cnn, tpr_cnn, label='Model CNN ROC')\n",
    "plt.plot(fpr_rnn, tpr_rnn, label='Model RNN ROC')\n",
    "plt.xlabel('False Positive Rate')\n",
    "plt.ylabel('True Positive Rate')\n",
    "plt.title('ROC Curve Comparison')\n",
    "plt.legend()\n",
    "plt.savefig('output/roc_curve_comparison.png')  # Save the ROC curve comparison plot\n",
    "plt.show()\n",
    "\n",
    "# Save Precision-Recall Curve Comparison for all three models\n",
    "precision_curve, recall_curve, _ = precision_recall_curve(\n",
    "    true_labels.ravel(), predictions.ravel()\n",
    ")\n",
    "precision_curve_cnn, recall_curve_cnn, _ = precision_recall_curve(\n",
    "    true_labels.ravel(), predictions_cnn.ravel()\n",
    ")\n",
    "precision_curve_rnn, recall_curve_rnn, _ = precision_recall_curve(\n",
    "    true_labels.ravel(), predictions_rnn.ravel()\n",
    ")\n",
    "\n",
    "plt.figure(figsize=(12, 6))\n",
    "plt.plot(precision_curve, recall_curve, label='Model (Dense) PR Curve')\n",
    "plt.plot(precision_curve_cnn, recall_curve_cnn, label='Model CNN PR Curve')\n",
    "plt.plot(precision_curve_rnn, recall_curve_rnn, label='Model RNN PR Curve')\n",
    "plt.xlabel('Recall')\n",
    "plt.ylabel('Precision')\n",
    "plt.title('Precision-Recall Curve Comparison')\n",
    "plt.legend()\n",
    "plt.savefig('output/pr_curve_comparison.png')  # Save the PR curve comparison plot\n",
    "plt.show()\n"
   ]
  },
  {
   "cell_type": "code",
   "execution_count": 55,
   "metadata": {},
   "outputs": [
    {
     "name": "stdout",
     "output_type": "stream",
     "text": [
      "[1. 1. 1. ... 0. 0. 0.]\n",
      "[1. 1. 1. ... 0. 0. 0.]\n",
      "<class 'numpy.ndarray'>\n",
      "6000000\n",
      "6000000\n",
      "0.9721943333333334\n"
     ]
    }
   ],
   "source": [
    "binary_predictions = binary_predictions.astype(float)\n",
    "true_labels = true_labels.flatten()\n",
    "binary_predictions = binary_predictions.flatten()\n",
    "\n",
    "print(true_labels)\n",
    "print(binary_predictions)\n",
    "print(type(true_labels),)\n",
    "print(len(true_labels))\n",
    "print(len(binary_predictions))\n",
    "accuracy = accuracy_score(true_labels, binary_predictions)\n",
    "print(accuracy)"
   ]
  },
  {
   "cell_type": "markdown",
   "metadata": {
    "id": "aN9UWqladnFa",
    "papermill": {
     "duration": 0.019782,
     "end_time": "2023-05-09T08:41:01.06997",
     "exception": false,
     "start_time": "2023-05-09T08:41:01.050188",
     "status": "completed"
    },
    "tags": []
   },
   "source": [
    "# Plot the model's loss and accuracy for each epoch"
   ]
  },
  {
   "cell_type": "code",
   "execution_count": null,
   "metadata": {
    "execution": {
     "iopub.execute_input": "2024-05-07T07:20:04.402245Z",
     "iopub.status.busy": "2024-05-07T07:20:04.401865Z",
     "iopub.status.idle": "2024-05-07T07:20:04.98172Z",
     "shell.execute_reply": "2024-05-07T07:20:04.980535Z",
     "shell.execute_reply.started": "2024-05-07T07:20:04.402213Z"
    },
    "id": "mF8wRiTNdnFa",
    "trusted": true
   },
   "outputs": [
    {
     "data": {
      "image/png": "[encoded data removed]",
      "text/plain": [
       "<Figure size 1000x600 with 1 Axes>"
      ]
     },
     "metadata": {},
     "output_type": "display_data"
    },
    {
     "data": {
      "image/png": "[encoded data removed]",
      "text/plain": [
       "<Figure size 1000x600 with 1 Axes>"
      ]
     },
     "metadata": {},
     "output_type": "display_data"
    }
   ],
   "source": [
    "import pandas as pd\n",
    "import matplotlib.pyplot as plt\n",
    "\n",
    "# DataFrames to store the training history of different models\n",
    "history_dense_df = pd.DataFrame(history.history)  # Original Dense model\n",
    "history_cnn_df = pd.DataFrame(history_cnn.history)  # CNN model\n",
    "history_rnn_df = pd.DataFrame(history_rnn.history)  # RNN model with LSTM\n",
    "\n",
    "# Plot cross-entropy loss for all models\n",
    "plt.figure(figsize=(10, 6))\n",
    "plt.plot(history_dense_df['loss'], label='Dense Loss')\n",
    "plt.plot(history_cnn_df['loss'], label='CNN Loss')\n",
    "plt.plot(history_rnn_df['loss'], label='RNN Loss')\n",
    "plt.title('Cross-entropy Loss Over Epochs')\n",
    "plt.xlabel('Epoch')\n",
    "plt.ylabel('Loss')\n",
    "plt.legend()\n",
    "plt.savefig('output/cross_entropy_loss.png')\n",
    "plt.show()\n",
    "\n",
    "# Plot binary accuracy for all models\n",
    "plt.figure(figsize=(10, 6))\n",
    "plt.plot(history_dense_df['binary_accuracy'], label='Dense Accuracy')\n",
    "plt.plot(history_cnn_df['binary_accuracy'], label='CNN Accuracy')\n",
    "plt.plot(history_rnn_df['binary_accuracy'], label='RNN Accuracy')\n",
    "plt.title('Binary Accuracy Over Epochs')\n",
    "plt.savefig('output/binary_accuracy.png')\n",
    "plt.xlabel('Epoch')\n",
    "plt.ylabel('Accuracy')\n",
    "plt.legend()\n",
    "plt.show()"
   ]
  }
 ],
 "metadata": {
  "colab": {
   "name": "CAFA 5 protein function with Deep Neurals Networks",
   "provenance": []
  },
  "kaggle": {
   "accelerator": "none",
   "dataSources": [
    {
     "databundleVersionId": 5521661,
     "sourceId": 41875,
     "sourceType": "competition"
    },
    {
     "datasetId": 3167603,
     "sourceId": 5499219,
     "sourceType": "datasetVersion"
    }
   ],
   "dockerImageVersionId": 30474,
   "isGpuEnabled": false,
   "isInternetEnabled": true,
   "language": "python",
   "sourceType": "notebook"
  },
  "kernelspec": {
   "display_name": "myenv",
   "language": "python",
   "name": "python3"
  },
  "language_info": {
   "codemirror_mode": {
    "name": "ipython",
    "version": 3
   },
   "file_extension": ".py",
   "mimetype": "text/x-python",
   "name": "python",
   "nbconvert_exporter": "python",
   "pygments_lexer": "ipython3",
   "version": "3.10.1"
  }
 },
 "nbformat": 4,
 "nbformat_minor": 0
}
